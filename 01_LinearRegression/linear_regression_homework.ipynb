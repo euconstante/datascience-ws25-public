{
 "cells": [
  {
   "cell_type": "markdown",
   "id": "a7f5ba8e",
   "metadata": {},
   "source": [
    "## Polynomial regression\n",
    "\n",
    "Following the linear regression example above, you should now implement a polynomial regression, which is is a more general case of the linear regression where features of the form $x^d \\,, d\\in \\mathbb{N}$ may be included. We will use an example that determines the radius of gyration $R_g$ for a set of small angle X-ray scattering data. The radius of gyration is the average electron density weighted square distance of scatterers from the centre of the object. It is related to the dimensions of certain well-defined shapes, such as spheres and ellipses, but different structures can exhibit the same $R_g$."
   ]
  },
  {
   "cell_type": "markdown",
   "id": "571bdc2b",
   "metadata": {},
   "source": [
    "Lets start importing the libraries"
   ]
  },
  {
   "cell_type": "code",
   "execution_count": null,
   "id": "86a7db0d",
   "metadata": {},
   "outputs": [],
   "source": [
    "import pandas as pd # This library is for developing data structures in the form of tables\n",
    "import numpy as np # This library is for scientific operations and data manipulation in matrices\n",
    "from sklearn import datasets, linear_model # This library helps to develop the linear model\n",
    "from sklearn.metrics import mean_squared_error # This library adds error metrics to our model\n",
    "\n",
    "import matplotlib.pyplot as plt # This library is for visualizing the curves\n",
    "import plotly.express as px #This library is for visualizing advanced graphics\n",
    "import plotly.graph_objs as go # This library is the graphical object for plotly"
   ]
  },
  {
   "cell_type": "markdown",
   "id": "2d57a8c3",
   "metadata": {},
   "source": [
    "Load the data stored in the file saxs_data.csv."
   ]
  },
  {
   "cell_type": "code",
   "execution_count": null,
   "id": "ec0160d8",
   "metadata": {},
   "outputs": [],
   "source": [
    "filename = '../data/saxs_data.csv'\n",
    "\n",
    "data_saxs = pd.read_csv(filename, delimiter=';')\n",
    "\n",
    "data_saxs.head()"
   ]
  },
  {
   "cell_type": "markdown",
   "id": "27c8a139",
   "metadata": {},
   "source": [
    "The radius of gyration is determined in the so-called Guinier zone, which is the beginning of the scattering curve. You may assume, that the maximum $q$ you need to consider is $q=0.01$ nm$^{-1}$. For this range of $q$ you can determine $R_g$ as follows: $$ln(I)=ln(I_0)-\\frac{1}{3}q^2R_g^2$$\n",
    "Based on this information and using the linear regression model from scikit_learn, determine $R_g$."
   ]
  },
  {
   "cell_type": "code",
   "execution_count": null,
   "id": "12023bc6",
   "metadata": {},
   "outputs": [],
   "source": [
    "### BEGIN SOLUTION\n",
    "\n",
    "### END SOLUTION"
   ]
  }
 ],
 "metadata": {
  "language_info": {
   "name": "python"
  }
 },
 "nbformat": 4,
 "nbformat_minor": 5
}
