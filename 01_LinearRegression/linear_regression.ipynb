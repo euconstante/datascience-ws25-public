{
 "cells": [
  {
   "cell_type": "markdown",
   "id": "d968cbd6",
   "metadata": {
    "editable": true,
    "nbgrader": {
     "grade": false,
     "grade_id": "cell-06ab79070a7266ca",
     "locked": true,
     "schema_version": 3,
     "solution": false,
     "task": false
    },
    "slideshow": {
     "slide_type": "slide"
    },
    "tags": []
   },
   "source": [
    "# 🛡️ The Swordsmith's Quest — Young's Modulus Detective\n",
    "\n",
    "You are an apprentice swordsmith on a mission to choose the best metal to forge a legendary sword.\n",
    "Use **linear regression** on stress–strain data to estimate **Young's modulus** and compare to reference metals.\n",
    "\n",
    "Follow the levels, earn badges, and become the **Master Swordsmith**! ⚔️"
   ]
  },
  {
   "cell_type": "markdown",
   "id": "4ab9b177",
   "metadata": {
    "nbgrader": {
     "grade": false,
     "grade_id": "cell-a05fbd9bcf940e0a",
     "locked": true,
     "schema_version": 3,
     "solution": false,
     "task": false
    },
    "slideshow": {
     "slide_type": "subslide"
    }
   },
   "source": [
    "## ⚙️ Setup & Instructions\n",
    "\n",
    "The data and code in the first part of the jupyter notebook (Young's modulus) is based on that published by Michael N Sakano, Saaketh Desai and Alejandro Strachan from Purdue University on [nanoHUB](https://nanohub.org/resources/youngsmod)<a name=\"cite_ref-1\"></a>[<sup>[1]</sup>](#cite_note-1) under the GNU General Public License version 3. It was adapted by Berit Zeller-Plumhoff and Bianca Constante Guedert for teaching at the University fo Rostock. The modifications include shortening of the jupyter notebook, adding comments, gamifying and rephrasing text passages.\n",
    "\n",
    "<a name=\"cite_note-1\"></a>1.[^](#cite_ref-1) Michael N Sakano, Saaketh Desai, Alejandro Strachan (2020), \"Linear Regression Young's modulus,\" https://nanohub.org/resources/youngsmod. (DOI: 10.21981/3NK6-A772).\n",
    "\n",
    "\n",
    "- First it download the dataset from the original notebook URL.\n",
    "- If the download is forbidden, it will fall back to a synthetic example so the exercise remains runnable.\n",
    "\n",
    "\n",
    "Run cells in order. Use the slider to select the elastic region for regression."
   ]
  },
  {
   "cell_type": "markdown",
   "id": "8917ea7f",
   "metadata": {
    "nbgrader": {
     "grade": false,
     "grade_id": "cell-997a775b09a32a94",
     "locked": true,
     "schema_version": 3,
     "solution": false,
     "task": false
    }
   },
   "source": [
    "## Learning objectives\n",
    "\n",
    "After going over this notebook you will be able to:\n",
    "\n",
    "- Use Pandas data structures to organize your data\n",
    "- Use linear regression to obtain Young’s modulus and yield stress from stress-strain data\n",
    "- Explore how the fit parameters affect the results"
   ]
  },
  {
   "cell_type": "markdown",
   "id": "c4a312e4",
   "metadata": {
    "nbgrader": {
     "grade": false,
     "grade_id": "cell-b9a167f2946f35a7",
     "locked": true,
     "schema_version": 3,
     "solution": false,
     "task": false
    }
   },
   "source": [
    "## Libraries\n",
    "\n",
    "We begin by loading the libraries required to perform the requires tasks. These include:\n",
    "\n",
    "- [Pandas](https://pandas.pydata.org/docs/) to load and organize the data\n",
    "- [Scikit-learn](https://scikit-learn.org/stable/index.html) to apply the linear regression model\n",
    "- [Matplotlib](https://matplotlib.org/) and [plotly](https://plotly.com/) for plotting the data"
   ]
  },
  {
   "cell_type": "code",
   "execution_count": null,
   "id": "cfa83b60",
   "metadata": {},
   "outputs": [],
   "source": [
    "import pandas as pd # This library is for developing data structures in the form of tables\n",
    "import numpy as np # This library is for scientific operations and data manipulation in matrices\n",
    "from sklearn import datasets, linear_model # This library helps to develop the linear model\n",
    "from sklearn.metrics import mean_squared_error # This library adds error metrics to our model\n",
    "\n",
    "import matplotlib.pyplot as plt # This library is for visualizing the curves\n",
    "import plotly.express as px #This library is for visualizing advanced graphics\n",
    "import plotly.graph_objs as go # This library is the graphical object for plotly\n"
   ]
  },
  {
   "cell_type": "markdown",
   "id": "7990ff95",
   "metadata": {
    "nbgrader": {
     "grade": false,
     "grade_id": "cell-106277674a53cfca",
     "locked": true,
     "schema_version": 3,
     "solution": false,
     "task": false
    },
    "slideshow": {
     "slide_type": "slide"
    }
   },
   "source": [
    "## Level 1 — The Forge's Ledger (Load & Inspect Data) — 10 pts\n",
    "\n",
    "**Mission:** Load the stress–strain data from Hollomon, J. H. Tensile Stress-Strain Curves of a 70-30 Brass (1944) — the original nanohub notebook dataset — and display the first rows and column names.\n",
    "\n",
    "**Tasks**: \n",
    "- [  ] Load Dataset\n",
    "- [  ] Display the first rows and columns names\n",
    "\n",
    "**Badge**: *Supply Guardian* 🏅\n",
    "\n",
    "<details>\n",
    "<summary>💡 Hint</summary>\n",
    "Look for two columns: strain (or epsilon) and stress (or sigma). Use `pandas.read_csv` to download a CSV; "
   ]
  },
  {
   "cell_type": "code",
   "execution_count": null,
   "id": "d7e721d3-2990-4bcc-b33d-3dad884c617f",
   "metadata": {},
   "outputs": [],
   "source": [
    "score = 0\n",
    "section_scores = {\n",
    "    \"section_1\" : 0, #max 10pts\n",
    "    \"section_2\" : 0, #max 30pts\n",
    "    \"section_3\" : 0, #max 60pts\n",
    "}"
   ]
  },
  {
   "cell_type": "code",
   "execution_count": null,
   "id": "127a5b5d",
   "metadata": {
    "nbgrader": {
     "grade": false,
     "grade_id": "L1_load_solution",
     "locked": false,
     "points": 0,
     "solution": true
    },
    "slideshow": {
     "slide_type": "fragment"
    },
    "tags": [
     "nbgrader-solution"
    ]
   },
   "outputs": [],
   "source": [
    "# TASK: define the path. Where is your data?\n",
    "# Set the name of the data file, which should be organized in two columns,\n",
    "# Strain in column 1 and stress in column 2.\n",
    "# The .csv file should be in the same folder as the jupyter notebook otherwise, you need to adjust the filename\n",
    "\n",
    "### BEGIN SOLUTION\n",
    "path = './data/Brass_grainsize_0_015mm.csv'\n",
    "\n",
    "# load your data; keep it simple with pandas\n",
    "data = pd.read_csv(path, delimiter=',')\n",
    "\n",
    "# display the \"head\" (first five rows) of the dataframe\n",
    "# try different commands of displaying the dataframe, \n",
    "\n",
    "data.tail()\n",
    "### END SOLUTION"
   ]
  },
  {
   "cell_type": "code",
   "execution_count": null,
   "id": "00806538",
   "metadata": {
    "nbgrader": {
     "grade": true,
     "grade_id": "L1_load_tests",
     "locked": true,
     "points": 10,
     "solution": false
    },
    "slideshow": {
     "slide_type": "fragment"
    },
    "tags": [
     "nbgrader-tests"
    ]
   },
   "outputs": [],
   "source": [
    "# HIDDEN TEST CELL: Level 1\n",
    "import pandas as pd\n",
    "\n",
    "max_points = 10  # maximum points for this section\n",
    "\n",
    "try:\n",
    "    assert 'data' in globals(), \"Variable 'data' not defined.\"\n",
    "    assert isinstance(data, pd.DataFrame), \"'data' must be a pandas DataFrame.\"\n",
    "    assert 'Strain' in data.columns, \"'data' must contain 'Strain' column.\"\n",
    "    assert 'Stress (MPa)' in data.columns, \"'data' must contain 'Stress (MPa)' column.\"\n",
    "    \n",
    "    # Add points only up to max\n",
    "    added = max_points - section_scores[\"section_1\"]\n",
    "    if added > 0:\n",
    "        score += added\n",
    "        section_scores[\"section_1\"] = max_points\n",
    "\n",
    "    print(f\"✅ Level 1 passed: +{added} pts (max {max_points} pts)\")\n",
    "\n",
    "except AssertionError as e:\n",
    "    print(f\"❌ Level 1 failed: {e}\")\n",
    "\n",
    "\n",
    "\n"
   ]
  },
  {
   "cell_type": "markdown",
   "id": "1c572995",
   "metadata": {
    "nbgrader": {
     "grade": false,
     "grade_id": "cell-51bc06624d79445f",
     "locked": true,
     "schema_version": 3,
     "solution": false,
     "task": false
    },
    "slideshow": {
     "slide_type": "slide"
    }
   },
   "source": [
    "## Level 2 — The Plotting Rite (Visualize & Select Elastic Region) — 20 pts\n",
    "\n",
    "**Mission:** Plot stress vs strain and use the slider to select an elastic-region window for regression. Assign the dataframe columns to variables `strain` and `stress`, and convert `strain` to percentage. Verify by printing the first 5 values of each variable.  \n",
    "\n",
    "**Badge:** *Eyes of the Forger* 🏅\n",
    "\n",
    "**Tasks:**  \n",
    "- [ ] Assign dataframe columns to `strain` and `stress`  \n",
    "- [ ] Convert `strain` values to %  \n",
    "- [ ] Print the first 5 values of both variables  \n",
    "- [ ] Plot stress vs strain  \n",
    "\n",
    "<details>\n",
    "<summary>💡 Hint</summary>\n",
    "You can assign columns with `strain = data['strain']` and `stress = data['stress']`. Multiply `strain` by 100 to get percentages. Use `matplotlib.pyplot` for plotting.\n",
    "</details>"
   ]
  },
  {
   "cell_type": "code",
   "execution_count": null,
   "id": "68ede5f7",
   "metadata": {
    "nbgrader": {
     "grade": false,
     "grade_id": "cell-bb9f765fa838380d",
     "locked": false,
     "schema_version": 3,
     "solution": true,
     "task": false
    },
    "slideshow": {
     "slide_type": "fragment"
    }
   },
   "outputs": [],
   "source": [
    "#STUDENT TASK\n",
    "\n",
    "### BEGIN SOLUTION\n",
    "strain = data['Strain']*100\n",
    "stress = data['Stress (MPa)']\n",
    "\n",
    "print('Strain (%) \\n', strain[:5])\n",
    "print('Stress (MPa) \\n', stress[:5])\n",
    "### END SOLUTION\n"
   ]
  },
  {
   "cell_type": "markdown",
   "id": "89a2ee19",
   "metadata": {
    "nbgrader": {
     "grade": false,
     "grade_id": "cell-cba0587eafda6880",
     "locked": true,
     "schema_version": 3,
     "solution": false,
     "task": false
    }
   },
   "source": [
    "Plotting\n",
    "\n",
    "Since we have now loaded the data, you can visualize it using matplotlib or plotly. The advantage of plotly is the interactiveness of the resulting plot.\n",
    "\n",
    "Display the stress-strain curve of the loaded data, including axes labels and a figure title"
   ]
  },
  {
   "cell_type": "code",
   "execution_count": null,
   "id": "69ed7262",
   "metadata": {
    "nbgrader": {
     "grade": false,
     "grade_id": "cell-92bda339d85632ba",
     "locked": false,
     "schema_version": 3,
     "solution": true,
     "task": false
    }
   },
   "outputs": [],
   "source": [
    "#PLOT\n",
    "### BEGIN SOLUTION\n",
    "fig = px.line(x=strain, y=stress, title=\"Stress-Strain\") \n",
    "fig.update_layout(xaxis_title='Strain (%)',\n",
    "                   yaxis_title='Stress (MPa)')\n",
    "fig.show()\n",
    "### END SOLUTION"
   ]
  },
  {
   "cell_type": "markdown",
   "id": "d518cd1a",
   "metadata": {
    "nbgrader": {
     "grade": false,
     "grade_id": "cell-d368e9dc02de0c58",
     "locked": true,
     "schema_version": 3,
     "solution": false,
     "task": false
    }
   },
   "source": [
    "Based on the data, decide on the maximum strain defining the linear regime of deformation. Based on this region, you will fit a linear curve to the data to determine the Young's modulus of the material. \n",
    "Automatically find the final array index of the strain variable pertaining to this maximum strain using the [numpy where](https://numpy.org/doc/stable/reference/generated/numpy.where.html) function."
   ]
  },
  {
   "cell_type": "code",
   "execution_count": null,
   "id": "aa290498",
   "metadata": {
    "nbgrader": {
     "grade": false,
     "grade_id": "cell-56d718f591250637",
     "locked": false,
     "schema_version": 3,
     "solution": true,
     "task": false
    }
   },
   "outputs": [],
   "source": [
    "# insert the maximum strain you wish to include in the fitting for the\n",
    "# Young's modulus based on the graph above\n",
    "### BEGIN SOLUTION\n",
    "max_strain = 0.05\n",
    "\n",
    "# us the numpy where function to define the maximum index of the variable\n",
    "# to include\n",
    "max_index = np.min(np.where(strain>max_strain))\n",
    "print('Max index', max_index)\n",
    "### END SOLUTION"
   ]
  },
  {
   "cell_type": "code",
   "execution_count": null,
   "id": "4164c4ad",
   "metadata": {
    "nbgrader": {
     "grade": true,
     "grade_id": "L2_tests",
     "locked": true,
     "points": 20,
     "solution": false
    },
    "scrolled": true,
    "slideshow": {
     "slide_type": "fragment"
    },
    "tags": [
     "nbgrader-tests"
    ]
   },
   "outputs": [],
   "source": [
    "# HIDDEN TEST CELL: Section 2 - max_index\n",
    "import numpy as np\n",
    "\n",
    "max_points = 30  # maximum points for this section\n",
    "\n",
    "try:\n",
    "    # --- Variable existence ---\n",
    "    for var in ['max_strain', 'max_index']:\n",
    "        assert var in globals(), f\"Variable '{var}' is not defined.\"\n",
    "\n",
    "    # --- Type checks ---\n",
    "    assert isinstance(max_index, (int, np.integer)), \"'max_index' must be an integer.\"\n",
    "    assert isinstance(max_strain, (float, int)), \"'max_strain' must be a number.\"\n",
    "\n",
    "    # --- Value check based on your dataset ---\n",
    "    expected_max_index = max_index\n",
    "    expected_max_strain = 0.05\n",
    "\n",
    "    assert np.isclose(max_strain, expected_max_strain), f\"max_strain should be {expected_max_strain}, got {max_strain}\"\n",
    "    assert max_index == expected_max_index, f\"max_index should be {expected_max_index}, got {max_index}\"\n",
    "\n",
    "    # --- Add points only if not already awarded ---\n",
    "    added = max_points - section_scores.get(\"max_index\", 0)\n",
    "    if added > 0:\n",
    "        score += added\n",
    "        section_scores[\"max_index\"] = max_points\n",
    "\n",
    "    print(f\"✅ Section 2 passed: +20 pts. Total score: {max_points} (max {max_points} pts)\")\n",
    "\n",
    "except AssertionError as e:\n",
    "    print(f\"❌ Section 2 failed: {e}\")\n",
    "\n",
    "\n"
   ]
  },
  {
   "cell_type": "markdown",
   "id": "731bec78",
   "metadata": {
    "nbgrader": {
     "grade": false,
     "grade_id": "cell-6690a441ff8191e7",
     "locked": true,
     "schema_version": 3,
     "solution": false,
     "task": false
    },
    "slideshow": {
     "slide_type": "slide"
    }
   },
   "source": [
    "## Level 3 — The Forge Equation (Linear Regression to obtain Young's Modulus) — 30 pts\n",
    "\n",
    "**Mission:** Using the selected region, fit a linear model (stress = E * strain) and report the estimated **E_modulus** in Pascals.\n",
    "\n",
    "Badge: *Keeper of Elastic Wisdom* 🏅"
   ]
  },
  {
   "cell_type": "code",
   "execution_count": null,
   "id": "458c89d9",
   "metadata": {
    "nbgrader": {
     "grade": false,
     "grade_id": "L3_solution",
     "locked": false,
     "points": 0,
     "solution": true
    },
    "slideshow": {
     "slide_type": "fragment"
    },
    "tags": [
     "nbgrader-solution"
    ]
   },
   "outputs": [],
   "source": [
    "# STUDENT TASK: Run regression on the selected region and set variable `E_modulus` (float, Pa)\n",
    "### BEGIN SOLUTION\n",
    "x_train=np.array(strain[:max_index]).reshape(-1,1)\n",
    "y_train=np.array(stress[:max_index]).reshape(-1,1)\n",
    "### END SOLUTION\n",
    "\n"
   ]
  },
  {
   "cell_type": "markdown",
   "id": "94967f48",
   "metadata": {
    "nbgrader": {
     "grade": false,
     "grade_id": "cell-a7a72acac5a088a4",
     "locked": true,
     "schema_version": 3,
     "solution": false,
     "task": false
    }
   },
   "source": [
    "Following the definition of your training data, you will now write a function that uses that data to train a linear regression model based on the scikit-learn library. The function should take your training data as input and output the parameters of the fitted model, as well as the fitted stress values."
   ]
  },
  {
   "cell_type": "code",
   "execution_count": null,
   "id": "a3990352",
   "metadata": {
    "nbgrader": {
     "grade": false,
     "grade_id": "cell-b129be5f67b28251",
     "locked": false,
     "schema_version": 3,
     "solution": true,
     "task": false
    }
   },
   "outputs": [],
   "source": [
    "#CREATING THE LINEAR MODEL\n",
    "### BEGIN SOLUTION\n",
    "def regression(X_train, Y_train):\n",
    "    # Define the model using linear_model and LinearRegression from Scikit_learn\n",
    "    model = linear_model.LinearRegression()\n",
    "    # train the model using .fit\n",
    "    model.fit(X_train, Y_train)\n",
    "        \n",
    "    # Use the model to predict the entire set of data using .predict\n",
    "    predictions = model.predict(X_train) \n",
    "    \n",
    "    # return the predictions and the fitted model\n",
    "    return predictions, model\n",
    "### END SOLUTION\n",
    "\n"
   ]
  },
  {
   "cell_type": "markdown",
   "id": "e1cd6687",
   "metadata": {
    "nbgrader": {
     "grade": false,
     "grade_id": "cell-c1f34f460278bb4d",
     "locked": true,
     "schema_version": 3,
     "solution": false,
     "task": false
    }
   },
   "source": [
    "Apply the function you have just defined to your data. Based on the predictions, determine the mean squared error of the predictions and print the linear function as well as the error."
   ]
  },
  {
   "cell_type": "code",
   "execution_count": null,
   "id": "e26135c3",
   "metadata": {
    "nbgrader": {
     "grade": false,
     "grade_id": "cell-2f287352aafb66bc",
     "locked": false,
     "schema_version": 3,
     "solution": true,
     "task": false
    }
   },
   "outputs": [],
   "source": [
    "### BEGIN SOLUTION\n",
    "predictions, model = regression(x_train, y_train) # This line calls the Regression model implemented in the function \n",
    "\n",
    "# Print model and mean squared error and variance score\n",
    "print(\"Linear Equation: %.4e X + (%.4e)\"%(model.coef_, model.intercept_))\n",
    "print(\"Mean squared error: %.4e\" % (mean_squared_error(y_train, predictions)))\n",
    "### END SOLUTION\n",
    "\n"
   ]
  },
  {
   "cell_type": "markdown",
   "id": "a19d2765",
   "metadata": {
    "nbgrader": {
     "grade": false,
     "grade_id": "cell-7efa369cc9efcd9f",
     "locked": true,
     "schema_version": 3,
     "solution": false,
     "task": false
    }
   },
   "source": [
    "Plot the original experimental data, the training data and the linear model predictions in one plot with different colours, adding a legend."
   ]
  },
  {
   "cell_type": "code",
   "execution_count": null,
   "id": "79f716e8",
   "metadata": {},
   "outputs": [],
   "source": [
    "layout0= go.Layout(hovermode= 'closest', width = 800, height=600, showlegend=True,  \n",
    "                       # Hovermode establishes the way the labels that appear when you hover are arranged \n",
    "                       # Establishing a square plot width=height\n",
    "xaxis= dict(title=go.layout.xaxis.Title(text=\"Axial Strain (%)\", font=dict(size=24)), zeroline= False, \n",
    "                gridwidth= 1, tickfont=dict(size=18)), # Axis Titles. Removing the X-axis Mark. Adding a Grid\n",
    "yaxis= dict(title=go.layout.yaxis.Title(text=\"Stress (MPa)\", font=dict(size=24)), zeroline= False, \n",
    "                gridwidth= 1, tickfont=dict(size=18)), # Axis Titles. Removing the Y-axis Mark. Adding a Grid\n",
    "legend=dict(font=dict(size=24))) # Adding a legend\n",
    "    \n",
    "training = go.Scatter(x = strain[:max_index], y = stress[:max_index], mode = 'markers', \n",
    "                          marker= dict(size= 10, color= 'red'), name= \"Training Data\") \n",
    "\n",
    "prediction = go.Scatter(x = strain[:max_index], y = predictions.reshape(1,-1).tolist()[0], mode = 'lines', \n",
    "                            line = dict(color = \"green\", width = 1.5),name= \"Model\") \n",
    "    \n",
    "full = go.Scatter(x = strain, y = stress, mode = 'markers',\n",
    "                      marker= dict(size= 5, color= 'black'), name= \"Full Data\")\n",
    "\n",
    "data = [full, training, prediction]\n",
    "fig= go.Figure(data, layout=layout0)\n",
    "\n",
    "fig.show()"
   ]
  },
  {
   "cell_type": "markdown",
   "id": "689de90a",
   "metadata": {
    "nbgrader": {
     "grade": false,
     "grade_id": "cell-288ec68210d96566",
     "locked": true,
     "schema_version": 3,
     "solution": false,
     "task": false
    }
   },
   "source": [
    "Calculate and print the Young's modulus of the material in GPa, and cross-check your computed value with the published literature.\n",
    "\n",
    "Now repeat the above with different thresholds for the maximum strain and evaluate how your linear model and Young's modulus change with different values. Repeat the workflow for the additional Brass_grainsize_0_020mm.csv and Brass_grainsize_0_025mm.csv files to assess how the Young's modulus changes with grain size - these are 0.015, 0.02 and 0.025 mm, respectively."
   ]
  },
  {
   "cell_type": "code",
   "execution_count": null,
   "id": "fc777853",
   "metadata": {
    "nbgrader": {
     "grade": false,
     "grade_id": "cell-504b8ea695e8ab9f",
     "locked": false,
     "schema_version": 3,
     "solution": true,
     "task": false
    }
   },
   "outputs": [],
   "source": [
    "#you can simply run the whole script until (incl.) cell for the three datasets and note down the E_mod value. \n",
    "#Alternatively, you could write a function that incorporates all these cells and automatically assess the changing E_mod\n",
    "#in this way. We will have a look at this in the future.\n",
    "### BEGIN SOLUTION\n",
    "\n",
    "E_mod=model.coef_/1000*100 # convert to GPa\n",
    "print(\"Young's modulus (GPa)\",E_mod)\n",
    "#0.015 mm 170.883205\n",
    "#0.020 mm 169.0934015\n",
    "#0.025 mm 167.8463072\n",
    "gs=[0.015,0.02,0.025]\n",
    "E=[170.88,169.09,167.85]\n",
    "fig=px.scatter(x=gs,y=E)\n",
    "fig.update_layout(xaxis_title='Grain size (mm)', yaxis_title='Young\\'s modulus (GPa)')\n",
    "# the Young's modulus decreases with increasing grain size\n",
    "# all values are higher than those found online with ranged between 90-140 GPa - these differences may be due to differences in the microstructure, or the accuracy of the experiment, which is almost 80 years old\n",
    "\n",
    "### END SOLUTION"
   ]
  },
  {
   "cell_type": "code",
   "execution_count": null,
   "id": "a8d80f27",
   "metadata": {
    "nbgrader": {
     "grade": true,
     "grade_id": "L3_tests",
     "locked": true,
     "points": 30,
     "solution": false
    },
    "slideshow": {
     "slide_type": "fragment"
    },
    "tags": [
     "nbgrader-tests"
    ]
   },
   "outputs": [],
   "source": [
    "# HIDDEN TEST CELL: Regression + E_mod\n",
    "import numpy as np\n",
    "from sklearn import linear_model\n",
    "from sklearn.metrics import mean_squared_error\n",
    "\n",
    "max_points = 60  # max points for this section\n",
    "\n",
    "try:\n",
    "    # --- Existence checks ---\n",
    "    for var in ['x_train', 'y_train', 'regression', 'model', 'predictions', 'E_mod']:\n",
    "        assert var in globals(), f\"Variable '{var}' is not defined.\"\n",
    "\n",
    "    # --- Type and regression checks ---\n",
    "    assert isinstance(x_train, np.ndarray)\n",
    "    assert isinstance(y_train, np.ndarray)\n",
    "    assert callable(regression)\n",
    "    assert hasattr(model, 'coef_')\n",
    "    assert hasattr(model, 'predict')\n",
    "\n",
    "    pred_test, mod_test = regression(x_train, y_train)\n",
    "    assert np.allclose(pred_test, model.predict(x_train), atol=1e-6)\n",
    "\n",
    "    if isinstance(E_mod, (list, np.ndarray)):\n",
    "        E_val = float(np.array(E_mod).ravel()[0])\n",
    "    else:\n",
    "        E_val = float(E_mod)\n",
    "    assert 160 <= E_val <= 180, f\"E_mod out of range: {E_val:.2f} GPa\"\n",
    "\n",
    "    # Add points only if not already added\n",
    "    added = max_points - section_scores[\"section_3\"]\n",
    "    if added > 0:\n",
    "        score += added\n",
    "        section_scores[\"section_3\"] = max_points\n",
    "\n",
    "    print(f\"✅ Regression test passed: +30 pts. Total score: {max_points} (max {max_points} pts)\")\n",
    "\n",
    "except AssertionError as e:\n",
    "    print(f\"❌ Regression test failed: {e}\")\n",
    "\n",
    "\n",
    "\n"
   ]
  },
  {
   "cell_type": "markdown",
   "id": "1555a299",
   "metadata": {
    "nbgrader": {
     "grade": false,
     "grade_id": "cell-6b048bb81aa518a2",
     "locked": true,
     "schema_version": 3,
     "solution": false,
     "task": false
    },
    "slideshow": {
     "slide_type": "slide"
    }
   },
   "source": [
    "## Level 4 — The Tournament of Alloys (Compare to Reference Metals) — 20 pts\n",
    "\n",
    "**Mission:** Compare your estimated modulus to a reference table (Steel, Aluminum, Titanium). Identify which metal your sample is closest to (within 10%).\n",
    "\n",
    "Badge: *Alloy Recognizer* 🏅"
   ]
  },
  {
   "cell_type": "code",
   "execution_count": null,
   "id": "54dc1701",
   "metadata": {
    "slideshow": {
     "slide_type": "fragment"
    }
   },
   "outputs": [],
   "source": [
    "# Compare your estimated Young's modulus to reference metals (all in GPa)\n",
    "\n",
    "# Your computed modulus in GPa\n",
    "if isinstance(E_mod, (list, np.ndarray)):\n",
    "    E_value = float(np.array(E_mod).ravel()[0])\n",
    "else:\n",
    "    E_value = float(E_mod)\n",
    "\n",
    "# Reference Young's modulus (GPa) TODO: Add references as you wish !\n",
    "references = {\n",
    "    'Aluminum': 69,\n",
    "    'Steel (generic)': 200,\n",
    "    'Titanium': 116\n",
    "}\n",
    "\n",
    "print(\"Reference Young's modulus (approx.):\")\n",
    "for metal, val in references.items():\n",
    "    print(f\"  {metal}: {val:.2f} GPa\")\n",
    "\n",
    "# Compute relative differences\n",
    "differences = {metal: abs(E_value - val)/val for metal, val in references.items()}\n",
    "\n",
    "# Identify closest material\n",
    "closest = min(differences, key=differences.get)\n",
    "rel_error = differences[closest]\n",
    "\n",
    "# Feedback\n",
    "print(\"\\n🎯 Your estimated Young's modulus:\")\n",
    "print(f\"  {E_value:.2f} GPa\")\n",
    "\n",
    "if rel_error <= 0.10:\n",
    "    print(f\"✅ Your sample is closest to {closest} (within 10%, relative error {rel_error:.2%})\")\n",
    "elif rel_error <= 0.25:\n",
    "    print(f\"⚠️ Your sample is somewhat close to {closest} (relative error {rel_error:.2%})\")\n",
    "else:\n",
    "    print(f\"❌ Your sample does not closely match any reference metal (closest: {closest}, relative error {rel_error:.2%})\")\n",
    "\n",
    "# Optional: show ranking of all metals\n",
    "print(\"\\n📊 Ranking of all reference metals by closeness:\")\n",
    "sorted_mets = sorted(differences.items(), key=lambda x: x[1])\n",
    "for i, (metal, diff) in enumerate(sorted_mets, 1):\n",
    "    print(f\"  {i}. {metal} - relative error {diff:.2%}\")\n",
    "\n"
   ]
  },
  {
   "cell_type": "markdown",
   "id": "1d7c6b6d",
   "metadata": {
    "nbgrader": {
     "grade": false,
     "grade_id": "cell-71a1f6542dd0587e",
     "locked": true,
     "schema_version": 3,
     "solution": false,
     "task": false
    },
    "slideshow": {
     "slide_type": "slide"
    }
   },
   "source": [
    "## Final Boss — The Sword Choice (Identify Best Metal) — 40 pts\n",
    "\n",
    "**Mission:** Based on mechanical properties (Young's modulus you found) and a short reasoning (3–5 sentences), choose which metal you would use to forge the legendary sword and why.\n",
    "\n",
    "Badge: *Master Swordsmith* 🏆"
   ]
  },
  {
   "cell_type": "markdown",
   "id": "4c323d32",
   "metadata": {
    "nbgrader": {
     "grade": false,
     "grade_id": "L5_reflection",
     "locked": true,
     "schema_version": 3,
     "solution": false,
     "task": false
    },
    "slideshow": {
     "slide_type": "fragment"
    }
   },
   "source": [
    "Write your decision and reasoning below (3–5 sentences). \n",
    "\n",
    "_Example answer:_ \"I would choose Steel because the estimated modulus of ~200 GPa indicates high stiffness and the material's known toughness suits a sword's requirements. However, if weight is a concern, Titanium might be preferred despite lower stiffness.\"\n",
    "\n",
    "_Write your reflection here:_"
   ]
  },
  {
   "cell_type": "code",
   "execution_count": null,
   "id": "c4f6cc5e-50cf-4a6a-b9fc-96d53bb472fc",
   "metadata": {
    "nbgrader": {
     "grade": true,
     "grade_id": "cell-56cde618c55c89a7",
     "locked": false,
     "points": 0,
     "schema_version": 3,
     "solution": true,
     "task": false
    }
   },
   "outputs": [],
   "source": [
    "### BEGIN SOLUTION\n",
    "\n",
    "### END SOLUTION"
   ]
  },
  {
   "cell_type": "markdown",
   "id": "9e5e80b7",
   "metadata": {
    "nbgrader": {
     "grade": false,
     "grade_id": "cell-9cf8bbe7c7aa7f7c",
     "locked": true,
     "schema_version": 3,
     "solution": false,
     "task": false
    },
    "slideshow": {
     "slide_type": "slide"
    }
   },
   "source": [
    "## 🎉 Quest Complete!\n",
    "\n",
    "You have completed the Swordsmith's Quest. If you earned enough points, you may be awarded the **Master Swordsmith** title.\n",
    "\n",
    "Next ideas: add uncertainty estimation (bootstrap), use stress units in MPa in plots, or try different candidate alloys."
   ]
  }
 ],
 "metadata": {
  "kernelspec": {
   "display_name": "base",
   "language": "python",
   "name": "python3"
  },
  "language_info": {
   "codemirror_mode": {
    "name": "ipython",
    "version": 3
   },
   "file_extension": ".py",
   "mimetype": "text/x-python",
   "name": "python",
   "nbconvert_exporter": "python",
   "pygments_lexer": "ipython3",
   "version": "3.12.8"
  },
  "rise": {
   "autolaunch": false,
   "enable_chalkboard": true,
   "scroll": true,
   "transition": "slide"
  }
 },
 "nbformat": 4,
 "nbformat_minor": 5
}
