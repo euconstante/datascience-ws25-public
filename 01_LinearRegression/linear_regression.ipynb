{
 "cells": [
  {
   "cell_type": "markdown",
   "id": "d968cbd6",
   "metadata": {
    "editable": true,
    "nbgrader": {
     "grade": false,
     "grade_id": "cell-06ab79070a7266ca",
     "locked": true,
     "schema_version": 3,
     "solution": false,
     "task": false
    },
    "slideshow": {
     "slide_type": "slide"
    },
    "tags": []
   },
   "source": [
    "# 🛡️ The Swordsmith's Quest — Young's Modulus Detective\n",
    "\n",
    "You are an apprentice swordsmith on a mission to choose the best metal to forge a legendary sword.\n",
    "Use **linear regression** on stress–strain data to estimate **Young's modulus** and compare to reference metals.\n",
    "\n",
    "Follow the levels, earn badges, and become the **Master Swordsmith**! ⚔️"
   ]
  },
  {
   "cell_type": "markdown",
   "id": "4ab9b177",
   "metadata": {
    "nbgrader": {
     "grade": false,
     "grade_id": "cell-a05fbd9bcf940e0a",
     "locked": true,
     "schema_version": 3,
     "solution": false,
     "task": false
    },
    "slideshow": {
     "slide_type": "subslide"
    }
   },
   "source": [
    "## ⚙️ Setup & Instructions\n",
    "\n",
    "The data and code in the first part of the jupyter notebook (Young's modulus) is based on that published by Michael N Sakano, Saaketh Desai and Alejandro Strachan from Purdue University on [nanoHUB](https://nanohub.org/resources/youngsmod)<a name=\"cite_ref-1\"></a>[<sup>[1]</sup>](#cite_note-1) under the GNU General Public License version 3. It was adapted by Berit Zeller-Plumhoff and Bianca Constante Guedert for teaching at the University fo Rostock. The modifications include shortening of the jupyter notebook, adding comments, gamifying and rephrasing text passages.\n",
    "\n",
    "<a name=\"cite_note-1\"></a>1.[^](#cite_ref-1) Michael N Sakano, Saaketh Desai, Alejandro Strachan (2020), \"Linear Regression Young's modulus,\" https://nanohub.org/resources/youngsmod. (DOI: 10.21981/3NK6-A772).\n",
    "\n",
    "\n",
    "- First it download the dataset from the original notebook URL.\n",
    "- If the download is forbidden, it will fall back to a synthetic example so the exercise remains runnable.\n",
    "\n",
    "\n",
    "Run cells in order. Use the slider to select the elastic region for regression."
   ]
  },
  {
   "cell_type": "markdown",
   "id": "8917ea7f",
   "metadata": {
    "nbgrader": {
     "grade": false,
     "grade_id": "cell-997a775b09a32a94",
     "locked": true,
     "schema_version": 3,
     "solution": false,
     "task": false
    }
   },
   "source": [
    "## Learning objectives\n",
    "\n",
    "After going over this notebook you will be able to:\n",
    "\n",
    "- Use Pandas data structures to organize your data\n",
    "- Use linear regression to obtain Young’s modulus and yield stress from stress-strain data\n",
    "- Explore how the fit parameters affect the results"
   ]
  },
  {
   "cell_type": "markdown",
   "id": "c4a312e4",
   "metadata": {
    "nbgrader": {
     "grade": false,
     "grade_id": "cell-b9a167f2946f35a7",
     "locked": true,
     "schema_version": 3,
     "solution": false,
     "task": false
    }
   },
   "source": [
    "## Libraries\n",
    "\n",
    "We begin by loading the libraries required to perform the requires tasks. These include:\n",
    "\n",
    "- [Pandas](https://pandas.pydata.org/docs/) to load and organize the data\n",
    "- [Scikit-learn](https://scikit-learn.org/stable/index.html) to apply the linear regression model\n",
    "- [Matplotlib](https://matplotlib.org/) and [plotly](https://plotly.com/) for plotting the data"
   ]
  },
  {
   "cell_type": "code",
   "execution_count": 7,
   "id": "cfa83b60",
   "metadata": {},
   "outputs": [],
   "source": [
    "import pandas as pd # This library is for developing data structures in the form of tables\n",
    "import numpy as np # This library is for scientific operations and data manipulation in matrices\n",
    "from sklearn import datasets, linear_model # This library helps to develop the linear model\n",
    "from sklearn.metrics import mean_squared_error # This library adds error metrics to our model\n",
    "\n",
    "\n",
    "import matplotlib.pyplot as plt # This library is for visualizing the curves\n",
    "import plotly.express as px #This library is for visualizing advanced graphics\n",
    "import plotly.graph_objs as go # This library is the graphical object for plotly\n"
   ]
  },
  {
   "cell_type": "markdown",
   "id": "7990ff95",
   "metadata": {
    "nbgrader": {
     "grade": false,
     "grade_id": "cell-106277674a53cfca",
     "locked": true,
     "schema_version": 3,
     "solution": false,
     "task": false
    },
    "slideshow": {
     "slide_type": "slide"
    }
   },
   "source": [
    "## Level 1 — The Forge's Ledger (Load & Inspect Data) — 10 pts\n",
    "\n",
    "**Mission:** Load the stress–strain data from Hollomon, J. H. Tensile Stress-Strain Curves of a 70-30 Brass (1944) — the original nanohub notebook dataset — and display the first rows and column names.\n",
    "\n",
    "**Tasks**: \n",
    "- [  ] Load Dataset\n",
    "- [  ] Display the first rows and columns names\n",
    "\n",
    "**Badge**: *Supply Guardian* 🏅\n",
    "\n",
    "<details>\n",
    "<summary>💡 Hint</summary>\n",
    "Look for two columns: strain (or epsilon) and stress (or sigma). Use `pandas.read_csv` to download a CSV; "
   ]
  },
  {
   "cell_type": "code",
   "execution_count": 4,
   "id": "d7e721d3-2990-4bcc-b33d-3dad884c617f",
   "metadata": {},
   "outputs": [],
   "source": [
    "score = 0\n",
    "section_scores = {\n",
    "    \"section_1\" : 0, #max 10pts\n",
    "    \"section_2\" : 0, #max 30pts\n",
    "    \"section_3\" : 0, #max 60pts\n",
    "}"
   ]
  },
  {
   "cell_type": "code",
   "execution_count": 8,
   "id": "127a5b5d",
   "metadata": {
    "nbgrader": {
     "grade": false,
     "grade_id": "L1_load_solution",
     "locked": false,
     "points": 0,
     "solution": true
    },
    "slideshow": {
     "slide_type": "fragment"
    },
    "tags": [
     "nbgrader-solution"
    ]
   },
   "outputs": [
    {
     "data": {
      "application/vnd.microsoft.datawrangler.viewer.v0+json": {
       "columns": [
        {
         "name": "index",
         "rawType": "int64",
         "type": "integer"
        },
        {
         "name": "Strain",
         "rawType": "float64",
         "type": "float"
        },
        {
         "name": "Stress (MPa)",
         "rawType": "float64",
         "type": "float"
        }
       ],
       "ref": "133f7592-abfe-4086-8826-468092c254b9",
       "rows": [
        [
         "3505",
         "0.005979087",
         "179.6678081"
        ],
        [
         "3506",
         "0.005980988",
         "179.6675344"
        ],
        [
         "3507",
         "0.00598289",
         "179.6672607"
        ],
        [
         "3508",
         "0.005984791",
         "179.666987"
        ],
        [
         "3509",
         "0.005986692",
         "179.6667133"
        ]
       ],
       "shape": {
        "columns": 2,
        "rows": 5
       }
      },
      "text/html": [
       "<div>\n",
       "<style scoped>\n",
       "    .dataframe tbody tr th:only-of-type {\n",
       "        vertical-align: middle;\n",
       "    }\n",
       "\n",
       "    .dataframe tbody tr th {\n",
       "        vertical-align: top;\n",
       "    }\n",
       "\n",
       "    .dataframe thead th {\n",
       "        text-align: right;\n",
       "    }\n",
       "</style>\n",
       "<table border=\"1\" class=\"dataframe\">\n",
       "  <thead>\n",
       "    <tr style=\"text-align: right;\">\n",
       "      <th></th>\n",
       "      <th>Strain</th>\n",
       "      <th>Stress (MPa)</th>\n",
       "    </tr>\n",
       "  </thead>\n",
       "  <tbody>\n",
       "    <tr>\n",
       "      <th>3505</th>\n",
       "      <td>0.005979</td>\n",
       "      <td>179.667808</td>\n",
       "    </tr>\n",
       "    <tr>\n",
       "      <th>3506</th>\n",
       "      <td>0.005981</td>\n",
       "      <td>179.667534</td>\n",
       "    </tr>\n",
       "    <tr>\n",
       "      <th>3507</th>\n",
       "      <td>0.005983</td>\n",
       "      <td>179.667261</td>\n",
       "    </tr>\n",
       "    <tr>\n",
       "      <th>3508</th>\n",
       "      <td>0.005985</td>\n",
       "      <td>179.666987</td>\n",
       "    </tr>\n",
       "    <tr>\n",
       "      <th>3509</th>\n",
       "      <td>0.005987</td>\n",
       "      <td>179.666713</td>\n",
       "    </tr>\n",
       "  </tbody>\n",
       "</table>\n",
       "</div>"
      ],
      "text/plain": [
       "        Strain  Stress (MPa)\n",
       "3505  0.005979    179.667808\n",
       "3506  0.005981    179.667534\n",
       "3507  0.005983    179.667261\n",
       "3508  0.005985    179.666987\n",
       "3509  0.005987    179.666713"
      ]
     },
     "execution_count": 8,
     "metadata": {},
     "output_type": "execute_result"
    }
   ],
   "source": [
    "# TASK: define the path. Where is your data?\n",
    "# Set the name of the data file, which should be organized in two columns,\n",
    "# Strain in column 1 and stress in column 2.\n",
    "# The .csv file should be in the same folder as the jupyter notebook otherwise, you need to adjust the filename\n",
    "\n",
    "### BEGIN SOLUTION\n",
    "path = '../data/Brass_grainsize_0_015mm.csv'\n",
    "\n",
    "# load your data; keep it simple with pandas\n",
    "data = pd.read_csv(path, delimiter=',')\n",
    "\n",
    "# display the \"head\" (first five rows) of the dataframe\n",
    "# try different commands of displaying the dataframe, \n",
    "\n",
    "data.tail()\n",
    "### END SOLUTION"
   ]
  },
  {
   "cell_type": "markdown",
   "id": "1c572995",
   "metadata": {
    "nbgrader": {
     "grade": false,
     "grade_id": "cell-51bc06624d79445f",
     "locked": true,
     "schema_version": 3,
     "solution": false,
     "task": false
    },
    "slideshow": {
     "slide_type": "slide"
    }
   },
   "source": [
    "## Level 2 — The Plotting Rite (Visualize & Select Elastic Region) — 20 pts\n",
    "\n",
    "**Mission:** Plot stress vs strain and use the slider to select an elastic-region window for regression. Assign the dataframe columns to variables `strain` and `stress`, and convert `strain` to percentage. Verify by printing the first 5 values of each variable.  \n",
    "\n",
    "**Badge:** *Eyes of the Forger* 🏅\n",
    "\n",
    "**Tasks:**  \n",
    "- [ ] Assign dataframe columns to `strain` and `stress`  \n",
    "- [ ] Convert `strain` values to %  \n",
    "- [ ] Print the first 5 values of both variables  \n",
    "- [ ] Plot stress vs strain  \n",
    "\n",
    "<details>\n",
    "<summary>💡 Hint</summary>\n",
    "You can assign columns with `strain = data['strain']` and `stress = data['stress']`. Multiply `strain` by 100 to get percentages. Use `matplotlib.pyplot` for plotting.\n",
    "</details>"
   ]
  },
  {
   "cell_type": "code",
   "execution_count": 10,
   "id": "68ede5f7",
   "metadata": {
    "nbgrader": {
     "grade": false,
     "grade_id": "cell-bb9f765fa838380d",
     "locked": false,
     "schema_version": 3,
     "solution": true,
     "task": false
    },
    "slideshow": {
     "slide_type": "fragment"
    }
   },
   "outputs": [
    {
     "name": "stdout",
     "output_type": "stream",
     "text": [
      "Strain (%) \n",
      " 0    0.000000\n",
      "1    0.000076\n",
      "2    0.000152\n",
      "3    0.000228\n",
      "4    0.000304\n",
      "Name: Strain, dtype: float64\n",
      "Stress (MPa) \n",
      " 0    0.000000\n",
      "1    0.086268\n",
      "2    0.172536\n",
      "3    0.258803\n",
      "4    0.345071\n",
      "Name: Stress (MPa), dtype: float64\n"
     ]
    }
   ],
   "source": [
    "#STUDENT TASK\n",
    "\n",
    "### BEGIN SOLUTION\n",
    "strain = data['Strain']*100\n",
    "stress = data['Stress (MPa)']\n",
    "\n",
    "print('Strain (%) \\n', strain[:5])\n",
    "print('Stress (MPa) \\n', stress[:5])\n",
    "### END SOLUTION\n"
   ]
  },
  {
   "cell_type": "markdown",
   "id": "89a2ee19",
   "metadata": {
    "nbgrader": {
     "grade": false,
     "grade_id": "cell-cba0587eafda6880",
     "locked": true,
     "schema_version": 3,
     "solution": false,
     "task": false
    }
   },
   "source": [
    "Plotting\n",
    "\n",
    "Since we have now loaded the data, you can visualize it using matplotlib or plotly. The advantage of plotly is the interactiveness of the resulting plot.\n",
    "\n",
    "Display the stress-strain curve of the loaded data, including axes labels and a figure title"
   ]
  },
  {
   "cell_type": "code",
   "execution_count": 11,
   "id": "69ed7262",
   "metadata": {
    "nbgrader": {
     "grade": false,
     "grade_id": "cell-92bda339d85632ba",
     "locked": false,
     "schema_version": 3,
     "solution": true,
     "task": false
    }
   },
   "outputs": [
    {
     "data": {
      "application/vnd.plotly.v1+json": {
       "config": {
        "plotlyServerURL": "https://plot.ly"
       },
       "data": [
        {
         "hovertemplate": "x=%{x}<br>y=%{y}<extra></extra>",
         "legendgroup": "",
         "line": {
          "color": "#636efa",
          "dash": "solid"
         },
         "marker": {
          "symbol": "circle"
         },
         "mode": "lines",
         "name": "",
         "showlegend": false,
         "type": "scattergl",
         "x": {
          "bdata": "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",
          "dtype": "f8"
         },
         "xaxis": "x",
         "y": {
          "bdata": "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",
          "dtype": "f8"
         },
         "yaxis": "y"
        }
       ],
       "layout": {
        "legend": {
         "tracegroupgap": 0
        },
        "template": {
         "data": {
          "bar": [
           {
            "error_x": {
             "color": "#2a3f5f"
            },
            "error_y": {
             "color": "#2a3f5f"
            },
            "marker": {
             "line": {
              "color": "#E5ECF6",
              "width": 0.5
             },
             "pattern": {
              "fillmode": "overlay",
              "size": 10,
              "solidity": 0.2
             }
            },
            "type": "bar"
           }
          ],
          "barpolar": [
           {
            "marker": {
             "line": {
              "color": "#E5ECF6",
              "width": 0.5
             },
             "pattern": {
              "fillmode": "overlay",
              "size": 10,
              "solidity": 0.2
             }
            },
            "type": "barpolar"
           }
          ],
          "carpet": [
           {
            "aaxis": {
             "endlinecolor": "#2a3f5f",
             "gridcolor": "white",
             "linecolor": "white",
             "minorgridcolor": "white",
             "startlinecolor": "#2a3f5f"
            },
            "baxis": {
             "endlinecolor": "#2a3f5f",
             "gridcolor": "white",
             "linecolor": "white",
             "minorgridcolor": "white",
             "startlinecolor": "#2a3f5f"
            },
            "type": "carpet"
           }
          ],
          "choropleth": [
           {
            "colorbar": {
             "outlinewidth": 0,
             "ticks": ""
            },
            "type": "choropleth"
           }
          ],
          "contour": [
           {
            "colorbar": {
             "outlinewidth": 0,
             "ticks": ""
            },
            "colorscale": [
             [
              0,
              "#0d0887"
             ],
             [
              0.1111111111111111,
              "#46039f"
             ],
             [
              0.2222222222222222,
              "#7201a8"
             ],
             [
              0.3333333333333333,
              "#9c179e"
             ],
             [
              0.4444444444444444,
              "#bd3786"
             ],
             [
              0.5555555555555556,
              "#d8576b"
             ],
             [
              0.6666666666666666,
              "#ed7953"
             ],
             [
              0.7777777777777778,
              "#fb9f3a"
             ],
             [
              0.8888888888888888,
              "#fdca26"
             ],
             [
              1,
              "#f0f921"
             ]
            ],
            "type": "contour"
           }
          ],
          "contourcarpet": [
           {
            "colorbar": {
             "outlinewidth": 0,
             "ticks": ""
            },
            "type": "contourcarpet"
           }
          ],
          "heatmap": [
           {
            "colorbar": {
             "outlinewidth": 0,
             "ticks": ""
            },
            "colorscale": [
             [
              0,
              "#0d0887"
             ],
             [
              0.1111111111111111,
              "#46039f"
             ],
             [
              0.2222222222222222,
              "#7201a8"
             ],
             [
              0.3333333333333333,
              "#9c179e"
             ],
             [
              0.4444444444444444,
              "#bd3786"
             ],
             [
              0.5555555555555556,
              "#d8576b"
             ],
             [
              0.6666666666666666,
              "#ed7953"
             ],
             [
              0.7777777777777778,
              "#fb9f3a"
             ],
             [
              0.8888888888888888,
              "#fdca26"
             ],
             [
              1,
              "#f0f921"
             ]
            ],
            "type": "heatmap"
           }
          ],
          "histogram": [
           {
            "marker": {
             "pattern": {
              "fillmode": "overlay",
              "size": 10,
              "solidity": 0.2
             }
            },
            "type": "histogram"
           }
          ],
          "histogram2d": [
           {
            "colorbar": {
             "outlinewidth": 0,
             "ticks": ""
            },
            "colorscale": [
             [
              0,
              "#0d0887"
             ],
             [
              0.1111111111111111,
              "#46039f"
             ],
             [
              0.2222222222222222,
              "#7201a8"
             ],
             [
              0.3333333333333333,
              "#9c179e"
             ],
             [
              0.4444444444444444,
              "#bd3786"
             ],
             [
              0.5555555555555556,
              "#d8576b"
             ],
             [
              0.6666666666666666,
              "#ed7953"
             ],
             [
              0.7777777777777778,
              "#fb9f3a"
             ],
             [
              0.8888888888888888,
              "#fdca26"
             ],
             [
              1,
              "#f0f921"
             ]
            ],
            "type": "histogram2d"
           }
          ],
          "histogram2dcontour": [
           {
            "colorbar": {
             "outlinewidth": 0,
             "ticks": ""
            },
            "colorscale": [
             [
              0,
              "#0d0887"
             ],
             [
              0.1111111111111111,
              "#46039f"
             ],
             [
              0.2222222222222222,
              "#7201a8"
             ],
             [
              0.3333333333333333,
              "#9c179e"
             ],
             [
              0.4444444444444444,
              "#bd3786"
             ],
             [
              0.5555555555555556,
              "#d8576b"
             ],
             [
              0.6666666666666666,
              "#ed7953"
             ],
             [
              0.7777777777777778,
              "#fb9f3a"
             ],
             [
              0.8888888888888888,
              "#fdca26"
             ],
             [
              1,
              "#f0f921"
             ]
            ],
            "type": "histogram2dcontour"
           }
          ],
          "mesh3d": [
           {
            "colorbar": {
             "outlinewidth": 0,
             "ticks": ""
            },
            "type": "mesh3d"
           }
          ],
          "parcoords": [
           {
            "line": {
             "colorbar": {
              "outlinewidth": 0,
              "ticks": ""
             }
            },
            "type": "parcoords"
           }
          ],
          "pie": [
           {
            "automargin": true,
            "type": "pie"
           }
          ],
          "scatter": [
           {
            "fillpattern": {
             "fillmode": "overlay",
             "size": 10,
             "solidity": 0.2
            },
            "type": "scatter"
           }
          ],
          "scatter3d": [
           {
            "line": {
             "colorbar": {
              "outlinewidth": 0,
              "ticks": ""
             }
            },
            "marker": {
             "colorbar": {
              "outlinewidth": 0,
              "ticks": ""
             }
            },
            "type": "scatter3d"
           }
          ],
          "scattercarpet": [
           {
            "marker": {
             "colorbar": {
              "outlinewidth": 0,
              "ticks": ""
             }
            },
            "type": "scattercarpet"
           }
          ],
          "scattergeo": [
           {
            "marker": {
             "colorbar": {
              "outlinewidth": 0,
              "ticks": ""
             }
            },
            "type": "scattergeo"
           }
          ],
          "scattergl": [
           {
            "marker": {
             "colorbar": {
              "outlinewidth": 0,
              "ticks": ""
             }
            },
            "type": "scattergl"
           }
          ],
          "scattermap": [
           {
            "marker": {
             "colorbar": {
              "outlinewidth": 0,
              "ticks": ""
             }
            },
            "type": "scattermap"
           }
          ],
          "scattermapbox": [
           {
            "marker": {
             "colorbar": {
              "outlinewidth": 0,
              "ticks": ""
             }
            },
            "type": "scattermapbox"
           }
          ],
          "scatterpolar": [
           {
            "marker": {
             "colorbar": {
              "outlinewidth": 0,
              "ticks": ""
             }
            },
            "type": "scatterpolar"
           }
          ],
          "scatterpolargl": [
           {
            "marker": {
             "colorbar": {
              "outlinewidth": 0,
              "ticks": ""
             }
            },
            "type": "scatterpolargl"
           }
          ],
          "scatterternary": [
           {
            "marker": {
             "colorbar": {
              "outlinewidth": 0,
              "ticks": ""
             }
            },
            "type": "scatterternary"
           }
          ],
          "surface": [
           {
            "colorbar": {
             "outlinewidth": 0,
             "ticks": ""
            },
            "colorscale": [
             [
              0,
              "#0d0887"
             ],
             [
              0.1111111111111111,
              "#46039f"
             ],
             [
              0.2222222222222222,
              "#7201a8"
             ],
             [
              0.3333333333333333,
              "#9c179e"
             ],
             [
              0.4444444444444444,
              "#bd3786"
             ],
             [
              0.5555555555555556,
              "#d8576b"
             ],
             [
              0.6666666666666666,
              "#ed7953"
             ],
             [
              0.7777777777777778,
              "#fb9f3a"
             ],
             [
              0.8888888888888888,
              "#fdca26"
             ],
             [
              1,
              "#f0f921"
             ]
            ],
            "type": "surface"
           }
          ],
          "table": [
           {
            "cells": {
             "fill": {
              "color": "#EBF0F8"
             },
             "line": {
              "color": "white"
             }
            },
            "header": {
             "fill": {
              "color": "#C8D4E3"
             },
             "line": {
              "color": "white"
             }
            },
            "type": "table"
           }
          ]
         },
         "layout": {
          "annotationdefaults": {
           "arrowcolor": "#2a3f5f",
           "arrowhead": 0,
           "arrowwidth": 1
          },
          "autotypenumbers": "strict",
          "coloraxis": {
           "colorbar": {
            "outlinewidth": 0,
            "ticks": ""
           }
          },
          "colorscale": {
           "diverging": [
            [
             0,
             "#8e0152"
            ],
            [
             0.1,
             "#c51b7d"
            ],
            [
             0.2,
             "#de77ae"
            ],
            [
             0.3,
             "#f1b6da"
            ],
            [
             0.4,
             "#fde0ef"
            ],
            [
             0.5,
             "#f7f7f7"
            ],
            [
             0.6,
             "#e6f5d0"
            ],
            [
             0.7,
             "#b8e186"
            ],
            [
             0.8,
             "#7fbc41"
            ],
            [
             0.9,
             "#4d9221"
            ],
            [
             1,
             "#276419"
            ]
           ],
           "sequential": [
            [
             0,
             "#0d0887"
            ],
            [
             0.1111111111111111,
             "#46039f"
            ],
            [
             0.2222222222222222,
             "#7201a8"
            ],
            [
             0.3333333333333333,
             "#9c179e"
            ],
            [
             0.4444444444444444,
             "#bd3786"
            ],
            [
             0.5555555555555556,
             "#d8576b"
            ],
            [
             0.6666666666666666,
             "#ed7953"
            ],
            [
             0.7777777777777778,
             "#fb9f3a"
            ],
            [
             0.8888888888888888,
             "#fdca26"
            ],
            [
             1,
             "#f0f921"
            ]
           ],
           "sequentialminus": [
            [
             0,
             "#0d0887"
            ],
            [
             0.1111111111111111,
             "#46039f"
            ],
            [
             0.2222222222222222,
             "#7201a8"
            ],
            [
             0.3333333333333333,
             "#9c179e"
            ],
            [
             0.4444444444444444,
             "#bd3786"
            ],
            [
             0.5555555555555556,
             "#d8576b"
            ],
            [
             0.6666666666666666,
             "#ed7953"
            ],
            [
             0.7777777777777778,
             "#fb9f3a"
            ],
            [
             0.8888888888888888,
             "#fdca26"
            ],
            [
             1,
             "#f0f921"
            ]
           ]
          },
          "colorway": [
           "#636efa",
           "#EF553B",
           "#00cc96",
           "#ab63fa",
           "#FFA15A",
           "#19d3f3",
           "#FF6692",
           "#B6E880",
           "#FF97FF",
           "#FECB52"
          ],
          "font": {
           "color": "#2a3f5f"
          },
          "geo": {
           "bgcolor": "white",
           "lakecolor": "white",
           "landcolor": "#E5ECF6",
           "showlakes": true,
           "showland": true,
           "subunitcolor": "white"
          },
          "hoverlabel": {
           "align": "left"
          },
          "hovermode": "closest",
          "mapbox": {
           "style": "light"
          },
          "paper_bgcolor": "white",
          "plot_bgcolor": "#E5ECF6",
          "polar": {
           "angularaxis": {
            "gridcolor": "white",
            "linecolor": "white",
            "ticks": ""
           },
           "bgcolor": "#E5ECF6",
           "radialaxis": {
            "gridcolor": "white",
            "linecolor": "white",
            "ticks": ""
           }
          },
          "scene": {
           "xaxis": {
            "backgroundcolor": "#E5ECF6",
            "gridcolor": "white",
            "gridwidth": 2,
            "linecolor": "white",
            "showbackground": true,
            "ticks": "",
            "zerolinecolor": "white"
           },
           "yaxis": {
            "backgroundcolor": "#E5ECF6",
            "gridcolor": "white",
            "gridwidth": 2,
            "linecolor": "white",
            "showbackground": true,
            "ticks": "",
            "zerolinecolor": "white"
           },
           "zaxis": {
            "backgroundcolor": "#E5ECF6",
            "gridcolor": "white",
            "gridwidth": 2,
            "linecolor": "white",
            "showbackground": true,
            "ticks": "",
            "zerolinecolor": "white"
           }
          },
          "shapedefaults": {
           "line": {
            "color": "#2a3f5f"
           }
          },
          "ternary": {
           "aaxis": {
            "gridcolor": "white",
            "linecolor": "white",
            "ticks": ""
           },
           "baxis": {
            "gridcolor": "white",
            "linecolor": "white",
            "ticks": ""
           },
           "bgcolor": "#E5ECF6",
           "caxis": {
            "gridcolor": "white",
            "linecolor": "white",
            "ticks": ""
           }
          },
          "title": {
           "x": 0.05
          },
          "xaxis": {
           "automargin": true,
           "gridcolor": "white",
           "linecolor": "white",
           "ticks": "",
           "title": {
            "standoff": 15
           },
           "zerolinecolor": "white",
           "zerolinewidth": 2
          },
          "yaxis": {
           "automargin": true,
           "gridcolor": "white",
           "linecolor": "white",
           "ticks": "",
           "title": {
            "standoff": 15
           },
           "zerolinecolor": "white",
           "zerolinewidth": 2
          }
         }
        },
        "title": {
         "text": "Stress-Strain"
        },
        "xaxis": {
         "anchor": "y",
         "domain": [
          0,
          1
         ],
         "title": {
          "text": "Strain (%)"
         }
        },
        "yaxis": {
         "anchor": "x",
         "domain": [
          0,
          1
         ],
         "title": {
          "text": "Stress (MPa)"
         }
        }
       }
      }
     },
     "metadata": {},
     "output_type": "display_data"
    }
   ],
   "source": [
    "#PLOT\n",
    "### BEGIN SOLUTION\n",
    "fig = px.line(x=strain, y=stress, title=\"Stress-Strain\") \n",
    "fig.update_layout(xaxis_title='Strain (%)',\n",
    "                   yaxis_title='Stress (MPa)')\n",
    "fig.show()\n",
    "### END SOLUTION"
   ]
  },
  {
   "cell_type": "markdown",
   "id": "d518cd1a",
   "metadata": {
    "nbgrader": {
     "grade": false,
     "grade_id": "cell-d368e9dc02de0c58",
     "locked": true,
     "schema_version": 3,
     "solution": false,
     "task": false
    }
   },
   "source": [
    "Based on the data, decide on the maximum strain defining the linear regime of deformation. Based on this region, you will fit a linear curve to the data to determine the Young's modulus of the material. \n",
    "Automatically find the final array index of the strain variable pertaining to this maximum strain using the [numpy where](https://numpy.org/doc/stable/reference/generated/numpy.where.html) function."
   ]
  },
  {
   "cell_type": "code",
   "execution_count": 12,
   "id": "aa290498",
   "metadata": {
    "nbgrader": {
     "grade": false,
     "grade_id": "cell-56d718f591250637",
     "locked": false,
     "schema_version": 3,
     "solution": true,
     "task": false
    }
   },
   "outputs": [
    {
     "name": "stdout",
     "output_type": "stream",
     "text": [
      "Max index 718\n"
     ]
    }
   ],
   "source": [
    "# insert the maximum strain you wish to include in the fitting for the\n",
    "# Young's modulus based on the graph above\n",
    "### BEGIN SOLUTION\n",
    "max_strain = 0.05\n",
    "\n",
    "# us the numpy where function to define the maximum index of the variable\n",
    "# to include\n",
    "max_index = np.min(np.where(strain>max_strain))\n",
    "print('Max index', max_index)\n",
    "### END SOLUTION"
   ]
  },
  {
   "cell_type": "markdown",
   "id": "731bec78",
   "metadata": {
    "nbgrader": {
     "grade": false,
     "grade_id": "cell-6690a441ff8191e7",
     "locked": true,
     "schema_version": 3,
     "solution": false,
     "task": false
    },
    "slideshow": {
     "slide_type": "slide"
    }
   },
   "source": [
    "## Level 3 — The Forge Equation (Linear Regression to obtain Young's Modulus) — 30 pts\n",
    "\n",
    "**Mission:** Using the selected region, fit a linear model (stress = E * strain) and report the estimated **E_modulus** in Pascals.\n",
    "\n",
    "Badge: *Keeper of Elastic Wisdom* 🏅"
   ]
  },
  {
   "cell_type": "code",
   "execution_count": 14,
   "id": "458c89d9",
   "metadata": {
    "nbgrader": {
     "grade": false,
     "grade_id": "L3_solution",
     "locked": false,
     "points": 0,
     "solution": true
    },
    "slideshow": {
     "slide_type": "fragment"
    },
    "tags": [
     "nbgrader-solution"
    ]
   },
   "outputs": [],
   "source": [
    "# STUDENT TASK: Run regression on the selected region and set variable `E_modulus` (float, Pa)\n",
    "### BEGIN SOLUTION\n",
    "x_train=np.array(strain[:max_index]).reshape(-1,1)\n",
    "y_train=np.array(stress[:max_index]).reshape(-1,1)\n",
    "### END SOLUTION\n",
    "\n"
   ]
  },
  {
   "cell_type": "markdown",
   "id": "94967f48",
   "metadata": {
    "nbgrader": {
     "grade": false,
     "grade_id": "cell-a7a72acac5a088a4",
     "locked": true,
     "schema_version": 3,
     "solution": false,
     "task": false
    }
   },
   "source": [
    "Following the definition of your training data, you will now write a function that uses that data to train a linear regression model based on the scikit-learn library. The function should take your training data as input and output the parameters of the fitted model, as well as the fitted stress values."
   ]
  },
  {
   "cell_type": "code",
   "execution_count": 15,
   "id": "a3990352",
   "metadata": {
    "nbgrader": {
     "grade": false,
     "grade_id": "cell-b129be5f67b28251",
     "locked": false,
     "schema_version": 3,
     "solution": true,
     "task": false
    }
   },
   "outputs": [],
   "source": [
    "#CREATING THE LINEAR MODEL\n",
    "### BEGIN SOLUTION\n",
    "def regression(X_train, Y_train):\n",
    "    # Define the model using linear_model and LinearRegression from Scikit_learn\n",
    "    model = linear_model.LinearRegression()\n",
    "    # train the model using .fit\n",
    "    model.fit(X_train, Y_train)\n",
    "        \n",
    "    # Use the model to predict the entire set of data using .predict\n",
    "    predictions = model.predict(X_train) \n",
    "    \n",
    "    # return the predictions and the fitted model\n",
    "    return predictions, model\n",
    "### END SOLUTION\n",
    "\n"
   ]
  },
  {
   "cell_type": "markdown",
   "id": "e1cd6687",
   "metadata": {
    "nbgrader": {
     "grade": false,
     "grade_id": "cell-c1f34f460278bb4d",
     "locked": true,
     "schema_version": 3,
     "solution": false,
     "task": false
    }
   },
   "source": [
    "Apply the function you have just defined to your data. Based on the predictions, determine the mean squared error of the predictions and print the linear function as well as the error."
   ]
  },
  {
   "cell_type": "code",
   "execution_count": 16,
   "id": "e26135c3",
   "metadata": {
    "nbgrader": {
     "grade": false,
     "grade_id": "cell-2f287352aafb66bc",
     "locked": false,
     "schema_version": 3,
     "solution": true,
     "task": false
    }
   },
   "outputs": [
    {
     "name": "stdout",
     "output_type": "stream",
     "text": [
      "Linear Equation: 1.7088e+03 X + (-5.0309e-01)\n",
      "Mean squared error: 2.0474e-01\n"
     ]
    },
    {
     "name": "stderr",
     "output_type": "stream",
     "text": [
      "C:\\Users\\bigu\\AppData\\Local\\Temp\\ipykernel_13860\\3222731803.py:5: DeprecationWarning:\n",
      "\n",
      "Conversion of an array with ndim > 0 to a scalar is deprecated, and will error in future. Ensure you extract a single element from your array before performing this operation. (Deprecated NumPy 1.25.)\n",
      "\n"
     ]
    }
   ],
   "source": [
    "### BEGIN SOLUTION\n",
    "predictions, model = regression(x_train, y_train) # This line calls the Regression model implemented in the function \n",
    "\n",
    "# Print model and mean squared error and variance score\n",
    "print(\"Linear Equation: %.4e X + (%.4e)\"%(model.coef_, model.intercept_))\n",
    "print(\"Mean squared error: %.4e\" % (mean_squared_error(y_train, predictions)))\n",
    "### END SOLUTION\n",
    "\n"
   ]
  },
  {
   "cell_type": "markdown",
   "id": "a19d2765",
   "metadata": {
    "nbgrader": {
     "grade": false,
     "grade_id": "cell-7efa369cc9efcd9f",
     "locked": true,
     "schema_version": 3,
     "solution": false,
     "task": false
    }
   },
   "source": [
    "Plot the original experimental data, the training data and the linear model predictions in one plot with different colours, adding a legend."
   ]
  },
  {
   "cell_type": "code",
   "execution_count": 17,
   "id": "79f716e8",
   "metadata": {},
   "outputs": [
    {
     "data": {
      "application/vnd.plotly.v1+json": {
       "config": {
        "plotlyServerURL": "https://plot.ly"
       },
       "data": [
        {
         "marker": {
          "color": "black",
          "size": 5
         },
         "mode": "markers",
         "name": "Full Data",
         "type": "scatter",
         "x": {
          "bdata": "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",
          "dtype": "f8"
         },
         "y": {
          "bdata": "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",
          "dtype": "f8"
         }
        },
        {
         "marker": {
          "color": "red",
          "size": 10
         },
         "mode": "markers",
         "name": "Training Data",
         "type": "scatter",
         "x": {
          "bdata": "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",
          "dtype": "f8"
         },
         "y": {
          "bdata": "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",
          "dtype": "f8"
         }
        },
        {
         "line": {
          "color": "green",
          "width": 1.5
         },
         "mode": "lines",
         "name": "Model",
         "type": "scatter",
         "x": {
          "bdata": "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",
          "dtype": "f8"
         },
         "y": [
          -0.5030859209990837,
          -0.373214685173173,
          -0.24334344934726232,
          -0.11347221352135162,
          0.01639902230455903,
          0.1462702581304698,
          0.27614149395638043,
          0.4060127297822911,
          0.5358839656082017,
          0.6657552014341124,
          0.7956264372600232,
          0.9272065051362746,
          1.0570777409621854,
          1.1869489767880963,
          1.308276052362302,
          1.4449826163895765,
          1.5816891804168507,
          1.7013074239407158,
          1.8380139879679902,
          1.9576322314918553,
          2.09433879551913,
          2.231045359546404,
          2.3506636030702697,
          2.4873701670975437,
          2.624076731124818,
          2.7436949746486836,
          2.8804015386759576,
          3.000019782199823,
          3.136726346227097,
          3.273432910254371,
          3.3930511537782366,
          3.461404435791874,
          3.529757717805511,
          3.5981109998191485,
          3.649375961329377,
          3.7177292433430136,
          3.786082525356651,
          3.8544358073702885,
          3.922789089383925,
          3.9740540508941526,
          4.04240733290779,
          4.110760614921427,
          4.179113896935064,
          4.247467178948702,
          4.298732140458929,
          4.367085422472567,
          4.435438704486204,
          4.503791986499841,
          4.572145268513478,
          4.6234102300237065,
          4.691763512037344,
          4.760116794050981,
          4.828470076064618,
          4.896823358078255,
          4.948088319588483,
          5.01644160160212,
          5.084794883615758,
          5.1531481656293945,
          5.221501447643032,
          5.27276640915326,
          5.341119691166897,
          5.477826255194171,
          5.597444498718037,
          5.734151062745311,
          5.870857626772585,
          5.990475870296451,
          6.127182434323725,
          6.246800677847589,
          6.383507241874864,
          6.520213805902139,
          6.639832049426003,
          6.776538613453278,
          6.896156856977144,
          7.032863421004417,
          7.169569985031692,
          7.289188228555557,
          7.425894792582832,
          7.545513036106696,
          7.682219600133971,
          7.818926164161246,
          7.938544407685111,
          8.075250971712386,
          8.21195753573966,
          8.331575779263524,
          8.468282343290799,
          8.587900586814664,
          8.724607150841937,
          8.861313714869212,
          8.980931958393079,
          9.117638522420352,
          9.237256765944217,
          9.442316611985127,
          9.63028813752263,
          9.835347983563542,
          10.023319509101047,
          10.211291034638547,
          10.416350880679458,
          10.60432240621696,
          10.809382252257873,
          10.997353777795375,
          11.185325303332878,
          11.390385149373788,
          11.57835667491129,
          11.783416520952203,
          11.971388046489706,
          12.159359572027208,
          12.364419418068119,
          12.552390943605621,
          12.757450789646533,
          12.945422315184036,
          13.133393840721538,
          13.338453686762449,
          13.526425212299952,
          13.731485058340864,
          13.919456583878368,
          14.124516429919277,
          14.312487955456781,
          14.500459480994284,
          14.705519327035192,
          14.893490852572693,
          15.098550698613606,
          15.218168942137472,
          15.354875506164747,
          15.47449374968861,
          15.611200313715887,
          15.747906877743159,
          15.867525121267025,
          16.0042316852943,
          16.123849928818164,
          16.26055649284544,
          16.397263056872717,
          16.51688130039658,
          16.65017020032317,
          16.780212319354114,
          16.910083555180027,
          17.03995479100594,
          17.169996910036883,
          17.299868145862796,
          17.42991026489374,
          17.559781500719648,
          17.689823619750594,
          17.819694855576504,
          17.949566091402414,
          18.07960821043336,
          18.20947944625927,
          18.339521565290216,
          18.469392801116125,
          18.59943492014707,
          18.72930615597298,
          18.859348275003924,
          18.989219510829837,
          19.054155128742792,
          19.11909074665575,
          19.18419724777374,
          19.24913286568669,
          19.314068483599648,
          19.379004101512603,
          19.44411060263059,
          19.509046220543546,
          19.573981838456504,
          19.638917456369455,
          19.704023957487447,
          19.7689595754004,
          19.833895193313356,
          19.89883081122631,
          19.963937312344303,
          20.028872930257258,
          20.093808548170212,
          20.158744166083167,
          20.223679783996126,
          20.288786285114114,
          20.35372190302707,
          20.418657520940027,
          20.483593138852978,
          20.54869963997097,
          20.613635257883924,
          20.678570875796883,
          20.743506493709837,
          20.808612994827822,
          20.873548612740784,
          20.938484230653735,
          21.068355466479645,
          21.198397585510588,
          21.3282688213365,
          21.458310940367447,
          21.588182176193353,
          21.7182242952243,
          21.848095531050213,
          21.978137650081155,
          22.10800888590707,
          22.23805100493801,
          22.367922240763924,
          22.49796435979487,
          22.627835595620777,
          22.757877714651723,
          22.887748950477636,
          23.017620186303542,
          23.14766230533449,
          23.277533541160402,
          23.407575660191345,
          23.537446896017254,
          23.667489015048197,
          23.79736025087411,
          23.927402369905057,
          24.057273605730966,
          24.187315724761913,
          24.31718696058782,
          24.447229079618765,
          24.577100315444678,
          24.707142434475625,
          24.83701367030153,
          24.966884906127444,
          25.09692702515839,
          25.226798260984296,
          25.356840380015242,
          25.486711615841156,
          25.616753734872102,
          25.746624970698008,
          25.876667089728954,
          26.006538325554867,
          26.136580444585814,
          26.26645168041172,
          26.396493799442663,
          26.52636503526858,
          26.656407154299522,
          26.78627839012543,
          26.91614962595134,
          27.04619174498229,
          27.176062980808197,
          27.306105099839144,
          27.435976335665057,
          27.566018454696,
          27.69588969052191,
          27.825931809552852,
          27.95580304537876,
          28.085845164409704,
          28.21571640023562,
          28.345758519266564,
          28.475629755092474,
          28.605671874123416,
          28.735543109949333,
          28.86541434577524,
          28.995456464806185,
          29.1253277006321,
          29.25536981966304,
          29.38524105548895,
          29.515283174519894,
          29.64515441034581,
          29.77502564617172,
          29.905067765202663,
          30.034939001028572,
          30.164981120059522,
          30.29485235588543,
          30.424894474916375,
          30.554765710742284,
          30.68480782977323,
          30.81467906559914,
          30.944550301425057,
          31.074592420456,
          31.20446365628191,
          31.334505775312852,
          31.46437701113876,
          31.594419130169705,
          31.724290365995614,
          31.854161601821524,
          31.98420372085247,
          32.11407495667839,
          32.244117075709326,
          32.373988311535236,
          32.50403043056618,
          32.6339016663921,
          32.763772902218,
          32.89381502124895,
          33.023686257074864,
          33.1537283761058,
          33.28359961193171,
          33.41364173096266,
          33.543512966788576,
          33.673555085819515,
          33.803426321645425,
          33.93346844067637,
          34.06333967650229,
          34.19338179553323,
          34.32325303135914,
          34.45329515039008,
          34.58316638621599,
          34.7130376220419,
          34.84307974107285,
          34.972950976898765,
          35.1029930959297,
          35.232864331755614,
          35.36290645078656,
          35.49277768661247,
          35.62281980564341,
          35.752691041469326,
          35.88273316050027,
          36.01260439632618,
          36.14264651535712,
          36.27251775118304,
          36.402559870213985,
          36.53243110603989,
          36.662302341865804,
          36.79234446089675,
          36.92221569672266,
          37.0522578157536,
          37.182129051579516,
          37.31217117061046,
          37.44204240643637,
          37.57208452546731,
          37.70195576129322,
          37.831997880324174,
          37.961869116150076,
          38.09191123518102,
          38.22178247100693,
          38.35182459003788,
          38.48169582586379,
          38.6115670616897,
          38.741609180720644,
          38.87148041654656,
          39.0015225355775,
          39.13139377140341,
          39.261435890434356,
          39.391307126260266,
          39.52134924529121,
          39.65122048111712,
          39.78126260014807,
          39.91113383597398,
          40.041175955004924,
          40.17104719083083,
          40.30108930986178,
          40.43096054568769,
          40.5608317815136,
          40.690873900544545,
          40.82074513637046,
          40.9507872554014,
          41.08065849122731,
          41.21070061025826,
          41.34057184608417,
          41.470443081910076,
          41.60048520094102,
          41.73035643676693,
          41.86039855579787,
          41.99026979162378,
          42.12031191065473,
          42.25018314648065,
          42.38022526551159,
          42.5100965013375,
          42.63996773716341,
          42.770009856194356,
          42.89988109202026,
          43.02992321105121,
          43.15979444687712,
          43.28983656590807,
          43.41970780173398,
          43.54957903755989,
          43.679621156590834,
          43.809492392416736,
          43.93953451144768,
          44.0694057472736,
          44.199447866304546,
          44.329319102130455,
          44.394254720043406,
          44.459190337956365,
          44.524296839074346,
          44.58923245698731,
          44.65416807490027,
          44.71910369281322,
          44.78421019393121,
          44.84914581184416,
          44.914081429757125,
          44.97901704767008,
          45.044123548788065,
          45.10905916670102,
          45.173994784613974,
          45.23893040252693,
          45.30403690364492,
          45.36897252155788,
          45.43390813947083,
          45.49884375738378,
          45.56377937529675,
          45.628885876414735,
          45.693821494327686,
          45.75875711224064,
          45.823692730153596,
          45.888799231271584,
          45.95373484918454,
          46.01867046709749,
          46.08360608501045,
          46.14871258612844,
          46.2136482040414,
          46.278583821954356,
          46.408455057780266,
          46.53849717681121,
          46.66836841263712,
          46.79841053166806,
          46.92828176749397,
          47.05832388652492,
          47.188195122350834,
          47.31823724138177,
          47.44810847720768,
          47.57815059623863,
          47.70802183206454,
          47.83806395109548,
          47.967935186921395,
          48.097977305952334,
          48.22784854177826,
          48.35771977760416,
          48.487761896635114,
          48.617633132461016,
          48.74767525149196,
          48.877546487317865,
          49.00758860634882,
          49.13745984217472,
          49.26750196120567,
          49.397373197031584,
          49.52741531606253,
          49.65728655188844,
          49.787328670919386,
          49.917199906745296,
          50.047242025776235,
          50.177113261602145,
          50.30698449742806,
          50.43702661645901,
          50.56689785228492,
          50.696939971315864,
          50.826811207141766,
          50.95685332617271,
          51.08672456199862,
          51.21676668102957,
          51.346637916855485,
          51.47668003588643,
          51.60655127171234,
          51.73659339074329,
          51.8664646265692,
          51.996506745600136,
          52.126377981426046,
          52.25624921725196,
          52.3862913362829,
          52.51616257210882,
          52.64620469113976,
          52.77607592696567,
          52.906118045996614,
          53.03598928182252,
          53.16603140085347,
          53.29590263667937,
          53.42594475571032,
          53.55581599153624,
          53.68585811056718,
          53.81572934639309,
          53.94577146542404,
          54.07564270124995,
          54.14057831916291,
          54.20551393707586,
          54.270620438193845,
          54.335556056106796,
          54.400491674019754,
          54.46542729193272,
          54.530362909845664,
          54.595469410963666,
          54.66040502887662,
          54.72534064678957,
          54.79027626470251,
          54.85521188261548,
          54.920318383733466,
          54.985254001646425,
          55.05018961955938,
          55.115125237472334,
          55.18006085538529,
          55.24516735650327,
          55.31010297441623,
          55.3750385923292,
          55.43997421024214,
          55.50490982815511,
          55.570016329273095,
          55.63495194718605,
          55.699887565099004,
          55.76482318301195,
          55.829758800924914,
          55.8948653020429,
          55.95980091995586,
          56.02473653786881,
          56.15460777369472,
          56.28464989272566,
          56.41452112855158,
          56.54456324758253,
          56.67443448340844,
          56.80447660243938,
          56.93434783826529,
          57.064389957296235,
          57.19426119312214,
          57.324303312153084,
          57.45417454797901,
          57.58421666700994,
          57.71408790283585,
          57.8441300218668,
          57.97400125769271,
          58.10387249351862,
          58.23391461254956,
          58.36378584837548,
          58.49382796740643,
          58.62369920323233,
          58.75374132226328,
          58.88361255808919,
          59.01365467712014,
          59.14352591294604,
          59.273568031976986,
          59.40343926780291,
          59.53348138683384,
          59.66335262265975,
          59.793394741690705,
          59.923265977516614,
          60.053137213342524,
          60.18317933237346,
          60.31305056819937,
          60.44309268723032,
          60.57296392305623,
          60.70300604208718,
          60.83287727791309,
          60.962919396944024,
          61.09279063276994,
          61.22283275180089,
          61.352703987626796,
          61.482746106657736,
          61.61261734248365,
          61.742659461514606,
          61.872530697340515,
          62.00240193316641,
          62.132444052197364,
          62.262315288023274,
          62.39235740705422,
          62.52222864288013,
          62.65227076191108,
          62.78214199773699,
          62.912184116767925,
          63.04205535259384,
          63.17209747162479,
          63.3019687074507,
          63.43201082648164,
          63.56188206230755,
          63.69192418133849,
          63.82179541716441,
          63.95166665299031,
          64.08170877202126,
          64.21158000784718,
          64.34162212687812,
          64.47149336270402,
          64.60153548173497,
          64.73140671756089,
          64.86144883659183,
          64.99132007241774,
          65.12136219144868,
          65.2512334272746,
          65.38127554630553,
          65.51114678213145,
          65.6411889011624,
          65.77106013698831,
          65.90093137281421,
          66.03097349184516,
          66.16084472767108,
          66.29088684670201,
          66.42075808252793,
          66.55080020155887,
          66.68067143738479,
          66.81071355641572,
          66.94058479224164,
          67.07062691127258,
          67.2004981470985,
          67.33054026612943,
          67.46041150195535,
          67.5904536209863,
          67.72032485681221,
          67.78526047472515,
          67.85019609263811,
          67.91530259375611,
          67.98023821166906,
          68.04517382958201,
          68.11010944749498,
          68.17504506540793,
          68.24015156652591,
          68.30508718443886,
          68.37002280235183,
          68.43495842026478,
          68.49989403817773,
          68.56500053929574,
          68.62993615720869,
          68.69487177512163,
          68.75980739303459,
          68.82474301094754,
          68.88984951206554,
          68.95478512997849,
          69.01972074789145,
          69.0846563658044,
          69.14959198371736,
          69.21469848483534,
          69.2796341027483,
          69.34456972066126,
          69.4095053385742,
          69.47444095648717,
          69.53954745760515,
          69.60448307551812,
          69.66941869343107,
          69.86439643037497,
          70.05920328411383,
          70.25418102105773,
          70.44915875800163,
          70.64413649494553,
          70.83894334868441,
          71.03392108562831,
          71.2288988225722,
          71.42370567631107,
          71.61868341325497,
          71.81366115019887,
          72.00846800393774,
          72.20344574088162,
          72.39842347782553,
          72.59340121476943,
          72.78820806850831,
          72.98318580545221,
          73.1781635423961,
          73.37297039613497,
          73.56794813307886,
          73.76292587002277,
          73.95773272376164,
          74.15271046070552,
          74.34768819764943,
          74.54266593459333,
          74.7374727883322,
          74.93245052527611,
          75.12742826222001,
          75.32223511595888,
          75.51721285290276,
          75.58214847081572,
          75.64708408872868,
          75.71219058984667,
          75.77712620775962,
          75.84206182567259,
          75.90699744358552,
          75.97210394470352,
          76.03703956261649,
          76.10197518052942,
          76.16691079844239,
          76.23201729956038,
          76.29695291747333,
          76.36188853538629,
          76.42682415329924,
          76.49193065441723,
          76.55686627233018,
          76.62180189024315,
          76.6867375081561,
          76.75167312606905,
          76.81677962718705,
          76.8817152451,
          76.94665086301295,
          77.0115864809259,
          77.0766929820439,
          77.14162859995686,
          77.20656421786981,
          77.27149983578276,
          77.33660633690076,
          77.4015419548137,
          77.46647757272666,
          77.59634880855258,
          77.72639092758352,
          77.85626216340943,
          77.98630428244037,
          78.11617551826629,
          78.24621763729724,
          78.37608887312314,
          78.50596010894905,
          78.63600222798,
          78.7658734638059,
          78.89591558283685,
          79.02578681866277,
          79.15582893769371,
          79.28570017351961,
          79.41574229255056,
          79.54561352837648,
          79.67548476420238,
          79.80552688323333,
          79.93539811905924,
          80.06544023809019,
          80.1953114739161,
          80.32535359294704,
          80.45522482877296,
          80.58509606459886,
          80.7151381836298,
          80.8450094194557,
          80.97505153848665,
          81.10492277431258,
          81.23496489334352,
          81.36483612916943,
          81.49470736499534,
          81.62474948402628,
          81.7546207198522,
          81.88466283888313,
          82.01453407470906,
          82.14457619374001,
          82.2744474295659,
          82.40448954859686,
          82.53436078442276,
          82.6644029034537,
          82.79427413927961,
          82.92431625831055,
          83.05418749413647,
          83.18422961316742,
          83.31410084899332,
          83.44397208481924,
          83.57401420385018,
          83.7038854396761,
          83.83392755870705,
          83.96379879453295,
          84.0938409135639,
          84.2237121493898,
          84.35375426842076,
          84.48362550424665,
          84.6136676232776,
          84.74353885910352,
          84.87358097813446
         ]
        }
       ],
       "layout": {
        "height": 600,
        "hovermode": "closest",
        "legend": {
         "font": {
          "size": 24
         }
        },
        "showlegend": true,
        "template": {
         "data": {
          "bar": [
           {
            "error_x": {
             "color": "#2a3f5f"
            },
            "error_y": {
             "color": "#2a3f5f"
            },
            "marker": {
             "line": {
              "color": "#E5ECF6",
              "width": 0.5
             },
             "pattern": {
              "fillmode": "overlay",
              "size": 10,
              "solidity": 0.2
             }
            },
            "type": "bar"
           }
          ],
          "barpolar": [
           {
            "marker": {
             "line": {
              "color": "#E5ECF6",
              "width": 0.5
             },
             "pattern": {
              "fillmode": "overlay",
              "size": 10,
              "solidity": 0.2
             }
            },
            "type": "barpolar"
           }
          ],
          "carpet": [
           {
            "aaxis": {
             "endlinecolor": "#2a3f5f",
             "gridcolor": "white",
             "linecolor": "white",
             "minorgridcolor": "white",
             "startlinecolor": "#2a3f5f"
            },
            "baxis": {
             "endlinecolor": "#2a3f5f",
             "gridcolor": "white",
             "linecolor": "white",
             "minorgridcolor": "white",
             "startlinecolor": "#2a3f5f"
            },
            "type": "carpet"
           }
          ],
          "choropleth": [
           {
            "colorbar": {
             "outlinewidth": 0,
             "ticks": ""
            },
            "type": "choropleth"
           }
          ],
          "contour": [
           {
            "colorbar": {
             "outlinewidth": 0,
             "ticks": ""
            },
            "colorscale": [
             [
              0,
              "#0d0887"
             ],
             [
              0.1111111111111111,
              "#46039f"
             ],
             [
              0.2222222222222222,
              "#7201a8"
             ],
             [
              0.3333333333333333,
              "#9c179e"
             ],
             [
              0.4444444444444444,
              "#bd3786"
             ],
             [
              0.5555555555555556,
              "#d8576b"
             ],
             [
              0.6666666666666666,
              "#ed7953"
             ],
             [
              0.7777777777777778,
              "#fb9f3a"
             ],
             [
              0.8888888888888888,
              "#fdca26"
             ],
             [
              1,
              "#f0f921"
             ]
            ],
            "type": "contour"
           }
          ],
          "contourcarpet": [
           {
            "colorbar": {
             "outlinewidth": 0,
             "ticks": ""
            },
            "type": "contourcarpet"
           }
          ],
          "heatmap": [
           {
            "colorbar": {
             "outlinewidth": 0,
             "ticks": ""
            },
            "colorscale": [
             [
              0,
              "#0d0887"
             ],
             [
              0.1111111111111111,
              "#46039f"
             ],
             [
              0.2222222222222222,
              "#7201a8"
             ],
             [
              0.3333333333333333,
              "#9c179e"
             ],
             [
              0.4444444444444444,
              "#bd3786"
             ],
             [
              0.5555555555555556,
              "#d8576b"
             ],
             [
              0.6666666666666666,
              "#ed7953"
             ],
             [
              0.7777777777777778,
              "#fb9f3a"
             ],
             [
              0.8888888888888888,
              "#fdca26"
             ],
             [
              1,
              "#f0f921"
             ]
            ],
            "type": "heatmap"
           }
          ],
          "histogram": [
           {
            "marker": {
             "pattern": {
              "fillmode": "overlay",
              "size": 10,
              "solidity": 0.2
             }
            },
            "type": "histogram"
           }
          ],
          "histogram2d": [
           {
            "colorbar": {
             "outlinewidth": 0,
             "ticks": ""
            },
            "colorscale": [
             [
              0,
              "#0d0887"
             ],
             [
              0.1111111111111111,
              "#46039f"
             ],
             [
              0.2222222222222222,
              "#7201a8"
             ],
             [
              0.3333333333333333,
              "#9c179e"
             ],
             [
              0.4444444444444444,
              "#bd3786"
             ],
             [
              0.5555555555555556,
              "#d8576b"
             ],
             [
              0.6666666666666666,
              "#ed7953"
             ],
             [
              0.7777777777777778,
              "#fb9f3a"
             ],
             [
              0.8888888888888888,
              "#fdca26"
             ],
             [
              1,
              "#f0f921"
             ]
            ],
            "type": "histogram2d"
           }
          ],
          "histogram2dcontour": [
           {
            "colorbar": {
             "outlinewidth": 0,
             "ticks": ""
            },
            "colorscale": [
             [
              0,
              "#0d0887"
             ],
             [
              0.1111111111111111,
              "#46039f"
             ],
             [
              0.2222222222222222,
              "#7201a8"
             ],
             [
              0.3333333333333333,
              "#9c179e"
             ],
             [
              0.4444444444444444,
              "#bd3786"
             ],
             [
              0.5555555555555556,
              "#d8576b"
             ],
             [
              0.6666666666666666,
              "#ed7953"
             ],
             [
              0.7777777777777778,
              "#fb9f3a"
             ],
             [
              0.8888888888888888,
              "#fdca26"
             ],
             [
              1,
              "#f0f921"
             ]
            ],
            "type": "histogram2dcontour"
           }
          ],
          "mesh3d": [
           {
            "colorbar": {
             "outlinewidth": 0,
             "ticks": ""
            },
            "type": "mesh3d"
           }
          ],
          "parcoords": [
           {
            "line": {
             "colorbar": {
              "outlinewidth": 0,
              "ticks": ""
             }
            },
            "type": "parcoords"
           }
          ],
          "pie": [
           {
            "automargin": true,
            "type": "pie"
           }
          ],
          "scatter": [
           {
            "fillpattern": {
             "fillmode": "overlay",
             "size": 10,
             "solidity": 0.2
            },
            "type": "scatter"
           }
          ],
          "scatter3d": [
           {
            "line": {
             "colorbar": {
              "outlinewidth": 0,
              "ticks": ""
             }
            },
            "marker": {
             "colorbar": {
              "outlinewidth": 0,
              "ticks": ""
             }
            },
            "type": "scatter3d"
           }
          ],
          "scattercarpet": [
           {
            "marker": {
             "colorbar": {
              "outlinewidth": 0,
              "ticks": ""
             }
            },
            "type": "scattercarpet"
           }
          ],
          "scattergeo": [
           {
            "marker": {
             "colorbar": {
              "outlinewidth": 0,
              "ticks": ""
             }
            },
            "type": "scattergeo"
           }
          ],
          "scattergl": [
           {
            "marker": {
             "colorbar": {
              "outlinewidth": 0,
              "ticks": ""
             }
            },
            "type": "scattergl"
           }
          ],
          "scattermap": [
           {
            "marker": {
             "colorbar": {
              "outlinewidth": 0,
              "ticks": ""
             }
            },
            "type": "scattermap"
           }
          ],
          "scattermapbox": [
           {
            "marker": {
             "colorbar": {
              "outlinewidth": 0,
              "ticks": ""
             }
            },
            "type": "scattermapbox"
           }
          ],
          "scatterpolar": [
           {
            "marker": {
             "colorbar": {
              "outlinewidth": 0,
              "ticks": ""
             }
            },
            "type": "scatterpolar"
           }
          ],
          "scatterpolargl": [
           {
            "marker": {
             "colorbar": {
              "outlinewidth": 0,
              "ticks": ""
             }
            },
            "type": "scatterpolargl"
           }
          ],
          "scatterternary": [
           {
            "marker": {
             "colorbar": {
              "outlinewidth": 0,
              "ticks": ""
             }
            },
            "type": "scatterternary"
           }
          ],
          "surface": [
           {
            "colorbar": {
             "outlinewidth": 0,
             "ticks": ""
            },
            "colorscale": [
             [
              0,
              "#0d0887"
             ],
             [
              0.1111111111111111,
              "#46039f"
             ],
             [
              0.2222222222222222,
              "#7201a8"
             ],
             [
              0.3333333333333333,
              "#9c179e"
             ],
             [
              0.4444444444444444,
              "#bd3786"
             ],
             [
              0.5555555555555556,
              "#d8576b"
             ],
             [
              0.6666666666666666,
              "#ed7953"
             ],
             [
              0.7777777777777778,
              "#fb9f3a"
             ],
             [
              0.8888888888888888,
              "#fdca26"
             ],
             [
              1,
              "#f0f921"
             ]
            ],
            "type": "surface"
           }
          ],
          "table": [
           {
            "cells": {
             "fill": {
              "color": "#EBF0F8"
             },
             "line": {
              "color": "white"
             }
            },
            "header": {
             "fill": {
              "color": "#C8D4E3"
             },
             "line": {
              "color": "white"
             }
            },
            "type": "table"
           }
          ]
         },
         "layout": {
          "annotationdefaults": {
           "arrowcolor": "#2a3f5f",
           "arrowhead": 0,
           "arrowwidth": 1
          },
          "autotypenumbers": "strict",
          "coloraxis": {
           "colorbar": {
            "outlinewidth": 0,
            "ticks": ""
           }
          },
          "colorscale": {
           "diverging": [
            [
             0,
             "#8e0152"
            ],
            [
             0.1,
             "#c51b7d"
            ],
            [
             0.2,
             "#de77ae"
            ],
            [
             0.3,
             "#f1b6da"
            ],
            [
             0.4,
             "#fde0ef"
            ],
            [
             0.5,
             "#f7f7f7"
            ],
            [
             0.6,
             "#e6f5d0"
            ],
            [
             0.7,
             "#b8e186"
            ],
            [
             0.8,
             "#7fbc41"
            ],
            [
             0.9,
             "#4d9221"
            ],
            [
             1,
             "#276419"
            ]
           ],
           "sequential": [
            [
             0,
             "#0d0887"
            ],
            [
             0.1111111111111111,
             "#46039f"
            ],
            [
             0.2222222222222222,
             "#7201a8"
            ],
            [
             0.3333333333333333,
             "#9c179e"
            ],
            [
             0.4444444444444444,
             "#bd3786"
            ],
            [
             0.5555555555555556,
             "#d8576b"
            ],
            [
             0.6666666666666666,
             "#ed7953"
            ],
            [
             0.7777777777777778,
             "#fb9f3a"
            ],
            [
             0.8888888888888888,
             "#fdca26"
            ],
            [
             1,
             "#f0f921"
            ]
           ],
           "sequentialminus": [
            [
             0,
             "#0d0887"
            ],
            [
             0.1111111111111111,
             "#46039f"
            ],
            [
             0.2222222222222222,
             "#7201a8"
            ],
            [
             0.3333333333333333,
             "#9c179e"
            ],
            [
             0.4444444444444444,
             "#bd3786"
            ],
            [
             0.5555555555555556,
             "#d8576b"
            ],
            [
             0.6666666666666666,
             "#ed7953"
            ],
            [
             0.7777777777777778,
             "#fb9f3a"
            ],
            [
             0.8888888888888888,
             "#fdca26"
            ],
            [
             1,
             "#f0f921"
            ]
           ]
          },
          "colorway": [
           "#636efa",
           "#EF553B",
           "#00cc96",
           "#ab63fa",
           "#FFA15A",
           "#19d3f3",
           "#FF6692",
           "#B6E880",
           "#FF97FF",
           "#FECB52"
          ],
          "font": {
           "color": "#2a3f5f"
          },
          "geo": {
           "bgcolor": "white",
           "lakecolor": "white",
           "landcolor": "#E5ECF6",
           "showlakes": true,
           "showland": true,
           "subunitcolor": "white"
          },
          "hoverlabel": {
           "align": "left"
          },
          "hovermode": "closest",
          "mapbox": {
           "style": "light"
          },
          "paper_bgcolor": "white",
          "plot_bgcolor": "#E5ECF6",
          "polar": {
           "angularaxis": {
            "gridcolor": "white",
            "linecolor": "white",
            "ticks": ""
           },
           "bgcolor": "#E5ECF6",
           "radialaxis": {
            "gridcolor": "white",
            "linecolor": "white",
            "ticks": ""
           }
          },
          "scene": {
           "xaxis": {
            "backgroundcolor": "#E5ECF6",
            "gridcolor": "white",
            "gridwidth": 2,
            "linecolor": "white",
            "showbackground": true,
            "ticks": "",
            "zerolinecolor": "white"
           },
           "yaxis": {
            "backgroundcolor": "#E5ECF6",
            "gridcolor": "white",
            "gridwidth": 2,
            "linecolor": "white",
            "showbackground": true,
            "ticks": "",
            "zerolinecolor": "white"
           },
           "zaxis": {
            "backgroundcolor": "#E5ECF6",
            "gridcolor": "white",
            "gridwidth": 2,
            "linecolor": "white",
            "showbackground": true,
            "ticks": "",
            "zerolinecolor": "white"
           }
          },
          "shapedefaults": {
           "line": {
            "color": "#2a3f5f"
           }
          },
          "ternary": {
           "aaxis": {
            "gridcolor": "white",
            "linecolor": "white",
            "ticks": ""
           },
           "baxis": {
            "gridcolor": "white",
            "linecolor": "white",
            "ticks": ""
           },
           "bgcolor": "#E5ECF6",
           "caxis": {
            "gridcolor": "white",
            "linecolor": "white",
            "ticks": ""
           }
          },
          "title": {
           "x": 0.05
          },
          "xaxis": {
           "automargin": true,
           "gridcolor": "white",
           "linecolor": "white",
           "ticks": "",
           "title": {
            "standoff": 15
           },
           "zerolinecolor": "white",
           "zerolinewidth": 2
          },
          "yaxis": {
           "automargin": true,
           "gridcolor": "white",
           "linecolor": "white",
           "ticks": "",
           "title": {
            "standoff": 15
           },
           "zerolinecolor": "white",
           "zerolinewidth": 2
          }
         }
        },
        "width": 800,
        "xaxis": {
         "gridwidth": 1,
         "tickfont": {
          "size": 18
         },
         "title": {
          "font": {
           "size": 24
          },
          "text": "Axial Strain (%)"
         },
         "zeroline": false
        },
        "yaxis": {
         "gridwidth": 1,
         "tickfont": {
          "size": 18
         },
         "title": {
          "font": {
           "size": 24
          },
          "text": "Stress (MPa)"
         },
         "zeroline": false
        }
       }
      }
     },
     "metadata": {},
     "output_type": "display_data"
    }
   ],
   "source": [
    "layout0= go.Layout(hovermode= 'closest', width = 800, height=600, showlegend=True,  \n",
    "                       # Hovermode establishes the way the labels that appear when you hover are arranged \n",
    "                       # Establishing a square plot width=height\n",
    "xaxis= dict(title=go.layout.xaxis.Title(text=\"Axial Strain (%)\", font=dict(size=24)), zeroline= False, \n",
    "                gridwidth= 1, tickfont=dict(size=18)), # Axis Titles. Removing the X-axis Mark. Adding a Grid\n",
    "yaxis= dict(title=go.layout.yaxis.Title(text=\"Stress (MPa)\", font=dict(size=24)), zeroline= False, \n",
    "                gridwidth= 1, tickfont=dict(size=18)), # Axis Titles. Removing the Y-axis Mark. Adding a Grid\n",
    "legend=dict(font=dict(size=24))) # Adding a legend\n",
    "    \n",
    "training = go.Scatter(x = strain[:max_index], y = stress[:max_index], mode = 'markers', \n",
    "                          marker= dict(size= 10, color= 'red'), name= \"Training Data\") \n",
    "\n",
    "prediction = go.Scatter(x = strain[:max_index], y = predictions.reshape(1,-1).tolist()[0], mode = 'lines', \n",
    "                            line = dict(color = \"green\", width = 1.5),name= \"Model\") \n",
    "    \n",
    "full = go.Scatter(x = strain, y = stress, mode = 'markers',\n",
    "                      marker= dict(size= 5, color= 'black'), name= \"Full Data\")\n",
    "\n",
    "data = [full, training, prediction]\n",
    "fig= go.Figure(data, layout=layout0)\n",
    "\n",
    "fig.show()"
   ]
  },
  {
   "cell_type": "markdown",
   "id": "689de90a",
   "metadata": {
    "nbgrader": {
     "grade": false,
     "grade_id": "cell-288ec68210d96566",
     "locked": true,
     "schema_version": 3,
     "solution": false,
     "task": false
    }
   },
   "source": [
    "Calculate and print the Young's modulus of the material in GPa, and cross-check your computed value with the published literature.\n",
    "\n",
    "Now repeat the above with different thresholds for the maximum strain and evaluate how your linear model and Young's modulus change with different values. Repeat the workflow for the additional Brass_grainsize_0_020mm.csv and Brass_grainsize_0_025mm.csv files to assess how the Young's modulus changes with grain size - these are 0.015, 0.02 and 0.025 mm, respectively."
   ]
  },
  {
   "cell_type": "code",
   "execution_count": 18,
   "id": "fc777853",
   "metadata": {
    "nbgrader": {
     "grade": false,
     "grade_id": "cell-504b8ea695e8ab9f",
     "locked": false,
     "schema_version": 3,
     "solution": true,
     "task": false
    }
   },
   "outputs": [
    {
     "name": "stdout",
     "output_type": "stream",
     "text": [
      "Young's modulus (GPa) [[170.88320503]]\n"
     ]
    },
    {
     "data": {
      "application/vnd.plotly.v1+json": {
       "config": {
        "plotlyServerURL": "https://plot.ly"
       },
       "data": [
        {
         "hovertemplate": "x=%{x}<br>y=%{y}<extra></extra>",
         "legendgroup": "",
         "marker": {
          "color": "#636efa",
          "symbol": "circle"
         },
         "mode": "markers",
         "name": "",
         "orientation": "v",
         "showlegend": false,
         "type": "scatter",
         "x": {
          "bdata": "uB6F61G4jj97FK5H4XqUP5qZmZmZmZk/",
          "dtype": "f8"
         },
         "xaxis": "x",
         "y": {
          "bdata": "XI/C9ShcZUB7FK5H4SJlQDMzMzMz+2RA",
          "dtype": "f8"
         },
         "yaxis": "y"
        }
       ],
       "layout": {
        "legend": {
         "tracegroupgap": 0
        },
        "margin": {
         "t": 60
        },
        "template": {
         "data": {
          "bar": [
           {
            "error_x": {
             "color": "#2a3f5f"
            },
            "error_y": {
             "color": "#2a3f5f"
            },
            "marker": {
             "line": {
              "color": "#E5ECF6",
              "width": 0.5
             },
             "pattern": {
              "fillmode": "overlay",
              "size": 10,
              "solidity": 0.2
             }
            },
            "type": "bar"
           }
          ],
          "barpolar": [
           {
            "marker": {
             "line": {
              "color": "#E5ECF6",
              "width": 0.5
             },
             "pattern": {
              "fillmode": "overlay",
              "size": 10,
              "solidity": 0.2
             }
            },
            "type": "barpolar"
           }
          ],
          "carpet": [
           {
            "aaxis": {
             "endlinecolor": "#2a3f5f",
             "gridcolor": "white",
             "linecolor": "white",
             "minorgridcolor": "white",
             "startlinecolor": "#2a3f5f"
            },
            "baxis": {
             "endlinecolor": "#2a3f5f",
             "gridcolor": "white",
             "linecolor": "white",
             "minorgridcolor": "white",
             "startlinecolor": "#2a3f5f"
            },
            "type": "carpet"
           }
          ],
          "choropleth": [
           {
            "colorbar": {
             "outlinewidth": 0,
             "ticks": ""
            },
            "type": "choropleth"
           }
          ],
          "contour": [
           {
            "colorbar": {
             "outlinewidth": 0,
             "ticks": ""
            },
            "colorscale": [
             [
              0,
              "#0d0887"
             ],
             [
              0.1111111111111111,
              "#46039f"
             ],
             [
              0.2222222222222222,
              "#7201a8"
             ],
             [
              0.3333333333333333,
              "#9c179e"
             ],
             [
              0.4444444444444444,
              "#bd3786"
             ],
             [
              0.5555555555555556,
              "#d8576b"
             ],
             [
              0.6666666666666666,
              "#ed7953"
             ],
             [
              0.7777777777777778,
              "#fb9f3a"
             ],
             [
              0.8888888888888888,
              "#fdca26"
             ],
             [
              1,
              "#f0f921"
             ]
            ],
            "type": "contour"
           }
          ],
          "contourcarpet": [
           {
            "colorbar": {
             "outlinewidth": 0,
             "ticks": ""
            },
            "type": "contourcarpet"
           }
          ],
          "heatmap": [
           {
            "colorbar": {
             "outlinewidth": 0,
             "ticks": ""
            },
            "colorscale": [
             [
              0,
              "#0d0887"
             ],
             [
              0.1111111111111111,
              "#46039f"
             ],
             [
              0.2222222222222222,
              "#7201a8"
             ],
             [
              0.3333333333333333,
              "#9c179e"
             ],
             [
              0.4444444444444444,
              "#bd3786"
             ],
             [
              0.5555555555555556,
              "#d8576b"
             ],
             [
              0.6666666666666666,
              "#ed7953"
             ],
             [
              0.7777777777777778,
              "#fb9f3a"
             ],
             [
              0.8888888888888888,
              "#fdca26"
             ],
             [
              1,
              "#f0f921"
             ]
            ],
            "type": "heatmap"
           }
          ],
          "histogram": [
           {
            "marker": {
             "pattern": {
              "fillmode": "overlay",
              "size": 10,
              "solidity": 0.2
             }
            },
            "type": "histogram"
           }
          ],
          "histogram2d": [
           {
            "colorbar": {
             "outlinewidth": 0,
             "ticks": ""
            },
            "colorscale": [
             [
              0,
              "#0d0887"
             ],
             [
              0.1111111111111111,
              "#46039f"
             ],
             [
              0.2222222222222222,
              "#7201a8"
             ],
             [
              0.3333333333333333,
              "#9c179e"
             ],
             [
              0.4444444444444444,
              "#bd3786"
             ],
             [
              0.5555555555555556,
              "#d8576b"
             ],
             [
              0.6666666666666666,
              "#ed7953"
             ],
             [
              0.7777777777777778,
              "#fb9f3a"
             ],
             [
              0.8888888888888888,
              "#fdca26"
             ],
             [
              1,
              "#f0f921"
             ]
            ],
            "type": "histogram2d"
           }
          ],
          "histogram2dcontour": [
           {
            "colorbar": {
             "outlinewidth": 0,
             "ticks": ""
            },
            "colorscale": [
             [
              0,
              "#0d0887"
             ],
             [
              0.1111111111111111,
              "#46039f"
             ],
             [
              0.2222222222222222,
              "#7201a8"
             ],
             [
              0.3333333333333333,
              "#9c179e"
             ],
             [
              0.4444444444444444,
              "#bd3786"
             ],
             [
              0.5555555555555556,
              "#d8576b"
             ],
             [
              0.6666666666666666,
              "#ed7953"
             ],
             [
              0.7777777777777778,
              "#fb9f3a"
             ],
             [
              0.8888888888888888,
              "#fdca26"
             ],
             [
              1,
              "#f0f921"
             ]
            ],
            "type": "histogram2dcontour"
           }
          ],
          "mesh3d": [
           {
            "colorbar": {
             "outlinewidth": 0,
             "ticks": ""
            },
            "type": "mesh3d"
           }
          ],
          "parcoords": [
           {
            "line": {
             "colorbar": {
              "outlinewidth": 0,
              "ticks": ""
             }
            },
            "type": "parcoords"
           }
          ],
          "pie": [
           {
            "automargin": true,
            "type": "pie"
           }
          ],
          "scatter": [
           {
            "fillpattern": {
             "fillmode": "overlay",
             "size": 10,
             "solidity": 0.2
            },
            "type": "scatter"
           }
          ],
          "scatter3d": [
           {
            "line": {
             "colorbar": {
              "outlinewidth": 0,
              "ticks": ""
             }
            },
            "marker": {
             "colorbar": {
              "outlinewidth": 0,
              "ticks": ""
             }
            },
            "type": "scatter3d"
           }
          ],
          "scattercarpet": [
           {
            "marker": {
             "colorbar": {
              "outlinewidth": 0,
              "ticks": ""
             }
            },
            "type": "scattercarpet"
           }
          ],
          "scattergeo": [
           {
            "marker": {
             "colorbar": {
              "outlinewidth": 0,
              "ticks": ""
             }
            },
            "type": "scattergeo"
           }
          ],
          "scattergl": [
           {
            "marker": {
             "colorbar": {
              "outlinewidth": 0,
              "ticks": ""
             }
            },
            "type": "scattergl"
           }
          ],
          "scattermap": [
           {
            "marker": {
             "colorbar": {
              "outlinewidth": 0,
              "ticks": ""
             }
            },
            "type": "scattermap"
           }
          ],
          "scattermapbox": [
           {
            "marker": {
             "colorbar": {
              "outlinewidth": 0,
              "ticks": ""
             }
            },
            "type": "scattermapbox"
           }
          ],
          "scatterpolar": [
           {
            "marker": {
             "colorbar": {
              "outlinewidth": 0,
              "ticks": ""
             }
            },
            "type": "scatterpolar"
           }
          ],
          "scatterpolargl": [
           {
            "marker": {
             "colorbar": {
              "outlinewidth": 0,
              "ticks": ""
             }
            },
            "type": "scatterpolargl"
           }
          ],
          "scatterternary": [
           {
            "marker": {
             "colorbar": {
              "outlinewidth": 0,
              "ticks": ""
             }
            },
            "type": "scatterternary"
           }
          ],
          "surface": [
           {
            "colorbar": {
             "outlinewidth": 0,
             "ticks": ""
            },
            "colorscale": [
             [
              0,
              "#0d0887"
             ],
             [
              0.1111111111111111,
              "#46039f"
             ],
             [
              0.2222222222222222,
              "#7201a8"
             ],
             [
              0.3333333333333333,
              "#9c179e"
             ],
             [
              0.4444444444444444,
              "#bd3786"
             ],
             [
              0.5555555555555556,
              "#d8576b"
             ],
             [
              0.6666666666666666,
              "#ed7953"
             ],
             [
              0.7777777777777778,
              "#fb9f3a"
             ],
             [
              0.8888888888888888,
              "#fdca26"
             ],
             [
              1,
              "#f0f921"
             ]
            ],
            "type": "surface"
           }
          ],
          "table": [
           {
            "cells": {
             "fill": {
              "color": "#EBF0F8"
             },
             "line": {
              "color": "white"
             }
            },
            "header": {
             "fill": {
              "color": "#C8D4E3"
             },
             "line": {
              "color": "white"
             }
            },
            "type": "table"
           }
          ]
         },
         "layout": {
          "annotationdefaults": {
           "arrowcolor": "#2a3f5f",
           "arrowhead": 0,
           "arrowwidth": 1
          },
          "autotypenumbers": "strict",
          "coloraxis": {
           "colorbar": {
            "outlinewidth": 0,
            "ticks": ""
           }
          },
          "colorscale": {
           "diverging": [
            [
             0,
             "#8e0152"
            ],
            [
             0.1,
             "#c51b7d"
            ],
            [
             0.2,
             "#de77ae"
            ],
            [
             0.3,
             "#f1b6da"
            ],
            [
             0.4,
             "#fde0ef"
            ],
            [
             0.5,
             "#f7f7f7"
            ],
            [
             0.6,
             "#e6f5d0"
            ],
            [
             0.7,
             "#b8e186"
            ],
            [
             0.8,
             "#7fbc41"
            ],
            [
             0.9,
             "#4d9221"
            ],
            [
             1,
             "#276419"
            ]
           ],
           "sequential": [
            [
             0,
             "#0d0887"
            ],
            [
             0.1111111111111111,
             "#46039f"
            ],
            [
             0.2222222222222222,
             "#7201a8"
            ],
            [
             0.3333333333333333,
             "#9c179e"
            ],
            [
             0.4444444444444444,
             "#bd3786"
            ],
            [
             0.5555555555555556,
             "#d8576b"
            ],
            [
             0.6666666666666666,
             "#ed7953"
            ],
            [
             0.7777777777777778,
             "#fb9f3a"
            ],
            [
             0.8888888888888888,
             "#fdca26"
            ],
            [
             1,
             "#f0f921"
            ]
           ],
           "sequentialminus": [
            [
             0,
             "#0d0887"
            ],
            [
             0.1111111111111111,
             "#46039f"
            ],
            [
             0.2222222222222222,
             "#7201a8"
            ],
            [
             0.3333333333333333,
             "#9c179e"
            ],
            [
             0.4444444444444444,
             "#bd3786"
            ],
            [
             0.5555555555555556,
             "#d8576b"
            ],
            [
             0.6666666666666666,
             "#ed7953"
            ],
            [
             0.7777777777777778,
             "#fb9f3a"
            ],
            [
             0.8888888888888888,
             "#fdca26"
            ],
            [
             1,
             "#f0f921"
            ]
           ]
          },
          "colorway": [
           "#636efa",
           "#EF553B",
           "#00cc96",
           "#ab63fa",
           "#FFA15A",
           "#19d3f3",
           "#FF6692",
           "#B6E880",
           "#FF97FF",
           "#FECB52"
          ],
          "font": {
           "color": "#2a3f5f"
          },
          "geo": {
           "bgcolor": "white",
           "lakecolor": "white",
           "landcolor": "#E5ECF6",
           "showlakes": true,
           "showland": true,
           "subunitcolor": "white"
          },
          "hoverlabel": {
           "align": "left"
          },
          "hovermode": "closest",
          "mapbox": {
           "style": "light"
          },
          "paper_bgcolor": "white",
          "plot_bgcolor": "#E5ECF6",
          "polar": {
           "angularaxis": {
            "gridcolor": "white",
            "linecolor": "white",
            "ticks": ""
           },
           "bgcolor": "#E5ECF6",
           "radialaxis": {
            "gridcolor": "white",
            "linecolor": "white",
            "ticks": ""
           }
          },
          "scene": {
           "xaxis": {
            "backgroundcolor": "#E5ECF6",
            "gridcolor": "white",
            "gridwidth": 2,
            "linecolor": "white",
            "showbackground": true,
            "ticks": "",
            "zerolinecolor": "white"
           },
           "yaxis": {
            "backgroundcolor": "#E5ECF6",
            "gridcolor": "white",
            "gridwidth": 2,
            "linecolor": "white",
            "showbackground": true,
            "ticks": "",
            "zerolinecolor": "white"
           },
           "zaxis": {
            "backgroundcolor": "#E5ECF6",
            "gridcolor": "white",
            "gridwidth": 2,
            "linecolor": "white",
            "showbackground": true,
            "ticks": "",
            "zerolinecolor": "white"
           }
          },
          "shapedefaults": {
           "line": {
            "color": "#2a3f5f"
           }
          },
          "ternary": {
           "aaxis": {
            "gridcolor": "white",
            "linecolor": "white",
            "ticks": ""
           },
           "baxis": {
            "gridcolor": "white",
            "linecolor": "white",
            "ticks": ""
           },
           "bgcolor": "#E5ECF6",
           "caxis": {
            "gridcolor": "white",
            "linecolor": "white",
            "ticks": ""
           }
          },
          "title": {
           "x": 0.05
          },
          "xaxis": {
           "automargin": true,
           "gridcolor": "white",
           "linecolor": "white",
           "ticks": "",
           "title": {
            "standoff": 15
           },
           "zerolinecolor": "white",
           "zerolinewidth": 2
          },
          "yaxis": {
           "automargin": true,
           "gridcolor": "white",
           "linecolor": "white",
           "ticks": "",
           "title": {
            "standoff": 15
           },
           "zerolinecolor": "white",
           "zerolinewidth": 2
          }
         }
        },
        "xaxis": {
         "anchor": "y",
         "domain": [
          0,
          1
         ],
         "title": {
          "text": "Grain size (mm)"
         }
        },
        "yaxis": {
         "anchor": "x",
         "domain": [
          0,
          1
         ],
         "title": {
          "text": "Young's modulus (GPa)"
         }
        }
       }
      }
     },
     "metadata": {},
     "output_type": "display_data"
    }
   ],
   "source": [
    "#you can simply run the whole script until (incl.) cell for the three datasets and note down the E_mod value. \n",
    "#Alternatively, you could write a function that incorporates all these cells and automatically assess the changing E_mod\n",
    "#in this way. We will have a look at this in the future.\n",
    "### BEGIN SOLUTION\n",
    "\n",
    "E_mod=model.coef_/1000*100 # convert to GPa\n",
    "print(\"Young's modulus (GPa)\",E_mod)\n",
    "#0.015 mm 170.883205\n",
    "#0.020 mm 169.0934015\n",
    "#0.025 mm 167.8463072\n",
    "gs=[0.015,0.02,0.025]\n",
    "E=[170.88,169.09,167.85]\n",
    "fig=px.scatter(x=gs,y=E)\n",
    "fig.update_layout(xaxis_title='Grain size (mm)', yaxis_title='Young\\'s modulus (GPa)')\n",
    "# the Young's modulus decreases with increasing grain size\n",
    "# all values are higher than those found online with ranged between 90-140 GPa - these differences may be due to differences in the microstructure, or the accuracy of the experiment, which is almost 80 years old\n",
    "\n",
    "### END SOLUTION"
   ]
  },
  {
   "cell_type": "markdown",
   "id": "1555a299",
   "metadata": {
    "nbgrader": {
     "grade": false,
     "grade_id": "cell-6b048bb81aa518a2",
     "locked": true,
     "schema_version": 3,
     "solution": false,
     "task": false
    },
    "slideshow": {
     "slide_type": "slide"
    }
   },
   "source": [
    "## Level 4 — The Tournament of Alloys (Compare to Reference Metals) — 20 pts\n",
    "\n",
    "**Mission:** Compare your estimated modulus to a reference table (Steel, Aluminum, Titanium). Identify which metal your sample is closest to (within 10%).\n",
    "\n",
    "Badge: *Alloy Recognizer* 🏅"
   ]
  },
  {
   "cell_type": "code",
   "execution_count": 20,
   "id": "54dc1701",
   "metadata": {
    "slideshow": {
     "slide_type": "fragment"
    }
   },
   "outputs": [
    {
     "name": "stdout",
     "output_type": "stream",
     "text": [
      "Reference Young's modulus (approx.):\n",
      "  Aluminum: 69.00 GPa\n",
      "  Steel (generic): 200.00 GPa\n",
      "  Titanium: 116.00 GPa\n",
      "\n",
      "🎯 Your estimated Young's modulus:\n",
      "  170.88 GPa\n",
      "⚠️ Your sample is somewhat close to Steel (generic) (relative error 14.56%)\n",
      "\n",
      "📊 Ranking of all reference metals by closeness:\n",
      "  1. Steel (generic) - relative error 14.56%\n",
      "  2. Titanium - relative error 47.31%\n",
      "  3. Aluminum - relative error 147.66%\n"
     ]
    }
   ],
   "source": [
    "# Compare your estimated Young's modulus to reference metals (all in GPa)\n",
    "\n",
    "# Your computed modulus in GPa\n",
    "if isinstance(E_mod, (list, np.ndarray)):\n",
    "    E_value = float(np.array(E_mod).ravel()[0])\n",
    "else:\n",
    "    E_value = float(E_mod)\n",
    "\n",
    "# Reference Young's modulus (GPa) TODO: Add references as you wish !\n",
    "references = {\n",
    "    'Aluminum': 69,\n",
    "    'Steel (generic)': 200,\n",
    "    'Titanium': 116\n",
    "}\n",
    "\n",
    "print(\"Reference Young's modulus (approx.):\")\n",
    "for metal, val in references.items():\n",
    "    print(f\"  {metal}: {val:.2f} GPa\")\n",
    "\n",
    "# Compute relative differences\n",
    "differences = {metal: abs(E_value - val)/val for metal, val in references.items()}\n",
    "\n",
    "# Identify closest material\n",
    "closest = min(differences, key=differences.get)\n",
    "rel_error = differences[closest]\n",
    "\n",
    "# Feedback\n",
    "print(\"\\n🎯 Your estimated Young's modulus:\")\n",
    "print(f\"  {E_value:.2f} GPa\")\n",
    "\n",
    "if rel_error <= 0.10:\n",
    "    print(f\"✅ Your sample is closest to {closest} (within 10%, relative error {rel_error:.2%})\")\n",
    "elif rel_error <= 0.25:\n",
    "    print(f\"⚠️ Your sample is somewhat close to {closest} (relative error {rel_error:.2%})\")\n",
    "else:\n",
    "    print(f\"❌ Your sample does not closely match any reference metal (closest: {closest}, relative error {rel_error:.2%})\")\n",
    "\n",
    "# Optional: show ranking of all metals\n",
    "print(\"\\n📊 Ranking of all reference metals by closeness:\")\n",
    "sorted_mets = sorted(differences.items(), key=lambda x: x[1])\n",
    "for i, (metal, diff) in enumerate(sorted_mets, 1):\n",
    "    print(f\"  {i}. {metal} - relative error {diff:.2%}\")\n",
    "\n"
   ]
  },
  {
   "cell_type": "markdown",
   "id": "1d7c6b6d",
   "metadata": {
    "nbgrader": {
     "grade": false,
     "grade_id": "cell-71a1f6542dd0587e",
     "locked": true,
     "schema_version": 3,
     "solution": false,
     "task": false
    },
    "slideshow": {
     "slide_type": "slide"
    }
   },
   "source": [
    "## Final Boss — The Sword Choice (Identify Best Metal) — 40 pts\n",
    "\n",
    "**Mission:** Based on mechanical properties (Young's modulus you found) and a short reasoning (3–5 sentences), choose which metal you would use to forge the legendary sword and why.\n",
    "\n",
    "Badge: *Master Swordsmith* 🏆"
   ]
  },
  {
   "cell_type": "markdown",
   "id": "4c323d32",
   "metadata": {
    "nbgrader": {
     "grade": false,
     "grade_id": "L5_reflection",
     "locked": true,
     "schema_version": 3,
     "solution": false,
     "task": false
    },
    "slideshow": {
     "slide_type": "fragment"
    }
   },
   "source": [
    "Write your decision and reasoning below (3–5 sentences). \n",
    "\n",
    "_Example answer:_ \"I would choose Steel because the estimated modulus of ~200 GPa indicates high stiffness and the material's known toughness suits a sword's requirements. However, if weight is a concern, Titanium might be preferred despite lower stiffness.\"\n",
    "\n",
    "_Write your reflection here:_"
   ]
  },
  {
   "cell_type": "code",
   "execution_count": 21,
   "id": "c4f6cc5e-50cf-4a6a-b9fc-96d53bb472fc",
   "metadata": {
    "nbgrader": {
     "grade": true,
     "grade_id": "cell-56cde618c55c89a7",
     "locked": false,
     "points": 0,
     "schema_version": 3,
     "solution": true,
     "task": false
    }
   },
   "outputs": [],
   "source": [
    "### BEGIN SOLUTION\n",
    "\n",
    "### END SOLUTION"
   ]
  },
  {
   "cell_type": "markdown",
   "id": "9e5e80b7",
   "metadata": {
    "nbgrader": {
     "grade": false,
     "grade_id": "cell-9cf8bbe7c7aa7f7c",
     "locked": true,
     "schema_version": 3,
     "solution": false,
     "task": false
    },
    "slideshow": {
     "slide_type": "slide"
    }
   },
   "source": [
    "## 🎉 Quest Complete!\n",
    "\n",
    "You have completed the Swordsmith's Quest. If you earned enough points, you may be awarded the **Master Swordsmith** title.\n",
    "\n",
    "Next ideas: add uncertainty estimation (bootstrap), use stress units in MPa in plots, or try different candidate alloys."
   ]
  }
 ],
 "metadata": {
  "kernelspec": {
   "display_name": "Python 3",
   "language": "python",
   "name": "python3"
  },
  "language_info": {
   "codemirror_mode": {
    "name": "ipython",
    "version": 3
   },
   "file_extension": ".py",
   "mimetype": "text/x-python",
   "name": "python",
   "nbconvert_exporter": "python",
   "pygments_lexer": "ipython3",
   "version": "3.13.7"
  },
  "rise": {
   "autolaunch": false,
   "enable_chalkboard": true,
   "scroll": true,
   "transition": "slide"
  }
 },
 "nbformat": 4,
 "nbformat_minor": 5
}
