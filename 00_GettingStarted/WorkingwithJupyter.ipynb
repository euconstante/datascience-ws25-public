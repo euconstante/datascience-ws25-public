{
 "cells": [
  {
   "cell_type": "markdown",
   "metadata": {},
   "source": [
    "### Calculator"
   ]
  },
  {
   "cell_type": "markdown",
   "metadata": {},
   "source": [
    "This is a simplified introduction into using jupyter notebooks."
   ]
  },
  {
   "cell_type": "markdown",
   "metadata": {},
   "source": [
    "Cells in jupyter can be used as a calculator. Basic principles on the order of calculation hold. Enter one of the following commands in the cell below and run that cell:\n",
    "- 1+1\n",
    "- 2*3\n",
    "- 5-2**2\n",
    "- (3-2)*2\t\t\t\t\n",
    "- 8/4\n",
    "\n",
    "Note that ** is used to calculate the exponential value instead of ^. You can find more information on operators here: https://www.w3schools.com/python/python_operators.asp"
   ]
  },
  {
   "cell_type": "code",
   "execution_count": 3,
   "metadata": {},
   "outputs": [
    {
     "data": {
      "text/plain": [
       "1"
      ]
     },
     "execution_count": 3,
     "metadata": {},
     "output_type": "execute_result"
    }
   ],
   "source": [
    "5-2**2"
   ]
  },
  {
   "cell_type": "markdown",
   "metadata": {},
   "source": [
    "### Using common mathematical function"
   ]
  },
  {
   "cell_type": "markdown",
   "metadata": {},
   "source": [
    "To use common mathematical functions, such as $\\exp$ or $\\log$ you will first need to import a libary containing these functions. This can be for example the math library or the numpy library.\n",
    "\n",
    "First enter:\n",
    "```python\n",
    "import math\n",
    "```\n",
    "or\n",
    "```python\n",
    "import numpy as np\n",
    "```\n",
    "in your cell followed by the calculation you wish to perform. If you are lacking the library, you can normally install it using pip install:\n",
    "```python\n",
    "pip install numpy\n",
    "```\n",
    "In order to access the functions from the library you must call them as part of it, such as\n",
    "```python\n",
    "math.exp()\n",
    "```\n",
    "or \n",
    "```python\n",
    "np.exp()\n",
    "```\n",
    "\n",
    "Try calculating\n",
    "- $\\exp(0)$\n",
    "- $\\log(\\exp(10))$\n",
    "- $\\sin(\\pi/2)$ \n",
    "\n",
    "in the cell below."
   ]
  },
  {
   "cell_type": "code",
   "execution_count": null,
   "metadata": {},
   "outputs": [],
   "source": []
  },
  {
   "cell_type": "markdown",
   "metadata": {},
   "source": [
    "### Lists, arrays, vectors and matrices"
   ]
  },
  {
   "cell_type": "markdown",
   "metadata": {},
   "source": [
    "Vectors and matrices can be defined in different ways. By defining a simple vector as you would in Matlab, e.g. x=[1,1,1,1,2], you are generating a list in Python. While lists are handy objects for some purposes, it is usually better to define arrays using numpy.\n",
    "```python\n",
    "import numpy as np\n",
    "x=np.array([1,1,1,1,2])\n",
    "print(x)\n",
    "```\n",
    "\n",
    "You can also define a vector using the range it will cover with or without defining the start value or the step size.\n",
    "```python\n",
    "import numpy as np\n",
    "x=np.arange(0,10)\n",
    "y=np.arange(0,10,2)\n",
    "z=np.arange(10)\n",
    "print(x)\n",
    "print(y)\n",
    "print(z)\n",
    "```\n",
    "Note, that the range you are defining does not include the last value and Python will always start counting at 0. This also holds for the entries of the array, i.e. type\n",
    "```python\n",
    "x[0]\n",
    "x[1]\n",
    "```\n",
    "to access the first two entries of the vector x.\n",
    "\n",
    "Using \n",
    "```python\n",
    "x=np.linspace(0,100,11)\n",
    "print(x)\n",
    "```\n",
    "you can define an evenly spaced vector with 11 entries.\n",
    "\n",
    "Similar to using the array function to define a vector, you may use it to define a matrix.\n",
    "```python\n",
    "import numpy as np\n",
    "x=np.array([[1,1,1],[2,2,2],[3,3,3]])\n",
    "print(x)\n",
    "```\n",
    "\n",
    "A vector and matrix can be transposed, multipltied etc.\n",
    "```python\n",
    "x**2\n",
    "np.transpose(x)\n",
    "```\n",
    "Finally, you can assess the shape of your array\n",
    "```python\n",
    "import numpy as np\n",
    "np.shape(x)\n",
    "```"
   ]
  },
  {
   "cell_type": "code",
   "execution_count": null,
   "metadata": {},
   "outputs": [],
   "source": []
  },
  {
   "cell_type": "markdown",
   "metadata": {},
   "source": [
    "### Loops and conditions"
   ]
  },
  {
   "cell_type": "markdown",
   "metadata": {},
   "source": [
    "Different types of loops can be used to repeat calculation steps. Most prominently the **for** loop:\n",
    "```python\n",
    "for i in range(0,3):\n",
    "\tprint(i)\n",
    "```\n",
    "\n",
    "Similarly, the **while** loop can be used:\n",
    "```python\n",
    "i=1\n",
    "while i<4:\n",
    "\tprint(i)\n",
    "\ti+=1\n",
    "```\n",
    "\n",
    "In certain cases a conditional command is required, i.e., a requirement must be fulfilled for the command to be executed. In such cases the **if-elseif-else** construct can be used, which varies depending on the number of cases. Just one condition:\n",
    "```python\n",
    "i=1;\n",
    "if i>0:\n",
    "\tprint(i)\n",
    "```\n",
    "If an alternative command is available:\n",
    "```python\n",
    "i=-1;\n",
    "if i>0:\n",
    "\tprint(i)\n",
    "else:\n",
    "\tprint(-i)\n",
    "```\n",
    "For more alternatives:\n",
    "If an alternative command is available:\n",
    "```python\n",
    "i=2;\n",
    "if i>0 and i<2:\n",
    "\tprint(i)\n",
    "elif i>=2:\n",
    "\tprint(i**2)\n",
    "else:\n",
    "\tprint(-i)\n",
    "```"
   ]
  },
  {
   "cell_type": "code",
   "execution_count": null,
   "metadata": {},
   "outputs": [],
   "source": []
  },
  {
   "cell_type": "markdown",
   "metadata": {},
   "source": [
    "### Functions"
   ]
  },
  {
   "cell_type": "markdown",
   "metadata": {},
   "source": [
    "In order not to have to type a long list of commands for every computation or analysis, you can define functions. You may save the function in a separate file or just keep it in a cell executed prior to any cell in which you wish to use it.\n",
    "\n",
    "In the example we are defining a function for creating a certain matrix - can you assess which part of the function is doing what?\n",
    "\n",
    "```python\n",
    "import numpy as np\n",
    "\n",
    "def randeyematrix(x):\n",
    "    Z=np.random.random((x,x))\n",
    "    Y=np.eye(x)\n",
    "    m=Y*Z\n",
    "    return m\n",
    "```\n",
    "Call the function for different x."
   ]
  },
  {
   "cell_type": "code",
   "execution_count": null,
   "metadata": {},
   "outputs": [],
   "source": []
  },
  {
   "cell_type": "markdown",
   "metadata": {},
   "source": [
    "### Reading text and data files"
   ]
  },
  {
   "cell_type": "markdown",
   "metadata": {},
   "source": [
    "Reading text and data files can be done doing different commands. For data processing, the pandas library offers an easy tool for structuring data as part of a dataframe. You can use functionalities from pandas to read .txt and .csv files which will then automatically be structured in a dataframe. See the pandas documentation for help on specific commands: https://pandas.pydata.org/docs/user_guide/index.html#user-guide\n",
    "\n",
    "```python\n",
    "import pandas as pd\n",
    "data=pd.read_csv('../data/xray2845.dat.txt', sep=' ', header=2, usecols=[2,4,6], names=['Energy / eV', 'delta','beta'])\n",
    "```\n",
    "you can then display the data frame or parts of it using\n",
    "```python\n",
    "data #display the whole dataframe\n",
    "data.head(x) #display the first x rows, default is 5\n",
    "data.tail(x) #display the last x rows, default is 5\n",
    "```\n",
    "to access columns or rows of the data frame for plotting or calculations, you may use\n",
    "```python\n",
    "E=data.iloc[:,0] # assigns the first column of the data frame to the variable E\n",
    "```\n",
    "or \n",
    "```python\n",
    "E=data['Energy / eV'] # assigns the column of the data frame named \"Energy / eV\" to the variable E\n",
    "```"
   ]
  },
  {
   "cell_type": "code",
   "execution_count": null,
   "metadata": {},
   "outputs": [],
   "source": []
  },
  {
   "cell_type": "markdown",
   "metadata": {},
   "source": [
    "### Plotting"
   ]
  },
  {
   "cell_type": "markdown",
   "metadata": {},
   "source": [
    "For basic plotting, import pyplot from matplotlib\n",
    "```python\n",
    "import matplotlib.pyplot as plt\n",
    "```\n",
    "\n",
    "You may then try to plot the a sine function using\n",
    "```python\n",
    "import numpy as np\n",
    "\n",
    "n = 11\n",
    "u = np.arange(0,2*np.pi+2*np.pi/10,2*np.pi/10)\n",
    "v = np.sin(u)\n",
    "plt.plot(u,v)\n",
    "```\n",
    "\n",
    "You can then also add labels and a title to the plot by entering: \n",
    "```python\n",
    "plt.xlabel('u')\n",
    "plt.ylabel('v')\n",
    "plt.title('v = sin(u)')\n",
    "```\n",
    "\n",
    "other plotting options also exist, e.g., a scatter plot or a bar graph. You can change plot characteristics, e.g., line style or width, by entering additional specifications in the plot command. Additionally, by adding a label to the plot, you can also specify a legend lateron.\n",
    "\n",
    "```python\n",
    "w = np.cos(u)\n",
    "plt.plot(u,v,color='black',marker='o',label='sin(u)')\n",
    "plt.plot(u,w,color='red',marker='s',linestyle='dashed',label='cos(u)')\n",
    "plt.legend()\n",
    "```\n",
    "\n",
    "Similarly, you can plot several subplots as part of one larger figure see the command and example specified here: https://matplotlib.org/stable/api/_as_gen/matplotlib.pyplot.subplots.html\n",
    "\n",
    "You can save the figure you generated using:\n",
    "```python\n",
    "plt.savefig('sinandcos.png', bbox_inches=\"tight\")\n",
    "```"
   ]
  },
  {
   "cell_type": "code",
   "execution_count": null,
   "metadata": {},
   "outputs": [],
   "source": []
  }
 ],
 "metadata": {
  "kernelspec": {
   "display_name": "Python 3 (ipykernel)",
   "language": "python",
   "name": "python3"
  },
  "language_info": {
   "codemirror_mode": {
    "name": "ipython",
    "version": 3
   },
   "file_extension": ".py",
   "mimetype": "text/x-python",
   "name": "python",
   "nbconvert_exporter": "python",
   "pygments_lexer": "ipython3",
   "version": "3.12.5"
  }
 },
 "nbformat": 4,
 "nbformat_minor": 4
}
