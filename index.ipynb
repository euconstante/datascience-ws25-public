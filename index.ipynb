{
 "cells": [
  {
   "cell_type": "markdown",
   "id": "6fdbe1e3",
   "metadata": {},
   "source": [
    "# Deep Learning\n",
    "\n",
    "This collection of jupyter notebooks constitute supplementary materials to the course [Deep Science](https://www.cdma.uni-rostock.de/lehre/lehrveranstaltungen/) given by [Berit Zeller-Plumhoff](https://www.cdma.uni-rostock.de/lehrstuhl/team/) - University of Rostock - [Chair of Data-driven Analysis and Design of Materials](https://www.cdma.uni-rostock.de/), Rostock, Germany. The sources of the notebooks, as well as installation and usage instructions can be found on [GitLab Uni Rostock](https://gitlab.uni-rostock.de/msf-cdma/Lectures/DataScience/datascience-ws25-public)."
   ]
  },
  {
   "cell_type": "markdown",
   "id": "90112762",
   "metadata": {},
   "source": [
    "_Last updated: 20.10.2025_"
   ]
  },
  {
   "cell_type": "markdown",
   "id": "f00f86f4",
   "metadata": {},
   "source": [
    "## Excercises\n",
    "\n",
    "* [Working with Jupyter Notebooks](00_GettingStarted/00_Working_with_Jupyter.ipynb)\n",
    "\n",
    "<!-- * Exercise 01 - [Numpy neural network from scratch](01_NumpyNN/01_exercise.ipynb)\n",
    "* Exercise 02 - [Using Neural Network for Regression in Materials Science](02_NN/02_exercise.ipynb)\n",
    "* Exercise 03 - [Using Neural Network for a Classification problem in Materials Science](03_NN_Opt_Reg/03_exercise.ipynb)\n",
    "* Exercise 04 - [Using PyTorch for the Ising Dataset](04_PytorchIntro/04_solution.ipynb)\n",
    "* Exercise 05 - CNNs in PyTorch: [MNIST Digits](05_CNNs/CNN_Part1_exercise.ipynb) and [Airbus Ship Detection](05_CNNs/CNN_Part2_solution.ipynb)\n",
    "* Exercise 06 - CNN 2: [Half filled](06_CNN2/CNN_Part1_half.ipynb) and [Homework](06_CNN2/06_homework.ipynb)\n",
    "* Exercise 07 - Encoder/Decoder segmentation [exercise](07_UNet/EncoderDecoder_exercise.ipynb) and U-Net [homework](07_UNet/Unet_homework_solution.ipynb)\n",
    "* Exercise 08 - [Advanced segmentation](08_AdvancedSegmentation/solution.ipynb) notebook\n",
    "* Exercise 09 - [Recurrent Neural Networks - Music Generation](09_RNN/09_RNN_Music_Generation_Solution.ipynb) notebook\n",
    "* Exercise 10 - [Recurrent Neural Networks - Wind Power Prediction](10_RNN/10_RNN_Wind_Power_Prediction_Exercise.ipynb) notebook\n",
    "* Exercise 11 - [Variational Autoencoder (VAE) on CT lung images](11_VAE/11_VAE_Lung_Cancer_Analysis_solution.ipynb) notebook\n",
    "* Exercise 12 - [Microstructure Conditional GAN](12_GAN/12_GAN_Exercise_Exercise.ipynb) notebook\n",
    "* Exercise 13 - [Ethics of AI](13_EthicsOfAI/13_EthicsOfAI.ipynb) -->"
   ]
  },
  {
   "cell_type": "markdown",
   "id": "3bb8cd59",
   "metadata": {},
   "source": [
    "**Copyright**\n",
    "\n",
    "The contents are provided as [Open Educational Resource](https://de.wikipedia.org/wiki/Open_Educational_Resources).\n",
    "The text is licensed under [Creative Commons Attribution 4.0](https://creativecommons.org/licenses/by/4.0/)\n",
    ", the code of the IPython examples under the [MIT license](https://opensource.org/licenses/MIT).\n",
    "Feel free to use the entire collection, parts or even single notebooks for your\n",
    "own purposes."
   ]
  }
 ],
 "metadata": {
  "kernelspec": {
   "display_name": "Python 3 (ipykernel)",
   "language": "python",
   "name": "python3"
  },
  "language_info": {
   "codemirror_mode": {
    "name": "ipython",
    "version": 3
   },
   "file_extension": ".py",
   "mimetype": "text/x-python",
   "name": "python",
   "nbconvert_exporter": "python",
   "pygments_lexer": "ipython3",
   "version": "3.12.6"
  }
 },
 "nbformat": 4,
 "nbformat_minor": 5
}
